{
  "cells": [
    {
      "cell_type": "markdown",
      "metadata": {
        "id": "OJ-WNz8gy_6i"
      },
      "source": [
        "### Stock Market Prediction And Forecasting Using Stacked LSTM"
      ]
    },
    {
      "cell_type": "code",
      "execution_count": null,
      "metadata": {
        "id": "iFlOA_Bfy_6n"
      },
      "outputs": [],
      "source": [
        "### Keras and Tensorflow >2.0"
      ]
    },
    {
      "cell_type": "code",
      "execution_count": 1,
      "metadata": {
        "id": "Q_oRnUzIy_6p"
      },
      "outputs": [],
      "source": [
        "### Data Collection\n",
        "import numpy as np\n",
        "import pandas as pd\n",
        "import matplotlib.pyplot as plt\n",
        "import pandas_datareader as data\n",
        "# import pandas_datareader as pdr\n",
        "# key=\"\""
      ]
    },
    {
      "cell_type": "code",
      "execution_count": 2,
      "metadata": {
        "colab": {
          "base_uri": "https://localhost:8080/",
          "height": 255
        },
        "id": "xxP_Ef0Oy_6q",
        "outputId": "0d4be505-defc-4a96-bd92-b0c9b133da63"
      },
      "outputs": [
        {
          "output_type": "stream",
          "name": "stdout",
          "text": [
            "\r[*********************100%***********************]  1 of 1 completed\n"
          ]
        },
        {
          "output_type": "execute_result",
          "data": {
            "text/plain": [
              "                Open      High       Low     Close  Adj Close     Volume\n",
              "Date                                                                    \n",
              "2010-01-04  7.622500  7.660714  7.585000  7.643214   6.496295  493729600\n",
              "2010-01-05  7.664286  7.699643  7.616071  7.656429   6.507527  601904800\n",
              "2010-01-06  7.656429  7.686786  7.526786  7.534643   6.404017  552160000\n",
              "2010-01-07  7.562500  7.571429  7.466071  7.520714   6.392175  477131200\n",
              "2010-01-08  7.510714  7.571429  7.466429  7.570714   6.434674  447610800"
            ],
            "text/html": [
              "\n",
              "  <div id=\"df-895f3f8b-e216-4257-badd-566acbca715c\">\n",
              "    <div class=\"colab-df-container\">\n",
              "      <div>\n",
              "<style scoped>\n",
              "    .dataframe tbody tr th:only-of-type {\n",
              "        vertical-align: middle;\n",
              "    }\n",
              "\n",
              "    .dataframe tbody tr th {\n",
              "        vertical-align: top;\n",
              "    }\n",
              "\n",
              "    .dataframe thead th {\n",
              "        text-align: right;\n",
              "    }\n",
              "</style>\n",
              "<table border=\"1\" class=\"dataframe\">\n",
              "  <thead>\n",
              "    <tr style=\"text-align: right;\">\n",
              "      <th></th>\n",
              "      <th>Open</th>\n",
              "      <th>High</th>\n",
              "      <th>Low</th>\n",
              "      <th>Close</th>\n",
              "      <th>Adj Close</th>\n",
              "      <th>Volume</th>\n",
              "    </tr>\n",
              "    <tr>\n",
              "      <th>Date</th>\n",
              "      <th></th>\n",
              "      <th></th>\n",
              "      <th></th>\n",
              "      <th></th>\n",
              "      <th></th>\n",
              "      <th></th>\n",
              "    </tr>\n",
              "  </thead>\n",
              "  <tbody>\n",
              "    <tr>\n",
              "      <th>2010-01-04</th>\n",
              "      <td>7.622500</td>\n",
              "      <td>7.660714</td>\n",
              "      <td>7.585000</td>\n",
              "      <td>7.643214</td>\n",
              "      <td>6.496295</td>\n",
              "      <td>493729600</td>\n",
              "    </tr>\n",
              "    <tr>\n",
              "      <th>2010-01-05</th>\n",
              "      <td>7.664286</td>\n",
              "      <td>7.699643</td>\n",
              "      <td>7.616071</td>\n",
              "      <td>7.656429</td>\n",
              "      <td>6.507527</td>\n",
              "      <td>601904800</td>\n",
              "    </tr>\n",
              "    <tr>\n",
              "      <th>2010-01-06</th>\n",
              "      <td>7.656429</td>\n",
              "      <td>7.686786</td>\n",
              "      <td>7.526786</td>\n",
              "      <td>7.534643</td>\n",
              "      <td>6.404017</td>\n",
              "      <td>552160000</td>\n",
              "    </tr>\n",
              "    <tr>\n",
              "      <th>2010-01-07</th>\n",
              "      <td>7.562500</td>\n",
              "      <td>7.571429</td>\n",
              "      <td>7.466071</td>\n",
              "      <td>7.520714</td>\n",
              "      <td>6.392175</td>\n",
              "      <td>477131200</td>\n",
              "    </tr>\n",
              "    <tr>\n",
              "      <th>2010-01-08</th>\n",
              "      <td>7.510714</td>\n",
              "      <td>7.571429</td>\n",
              "      <td>7.466429</td>\n",
              "      <td>7.570714</td>\n",
              "      <td>6.434674</td>\n",
              "      <td>447610800</td>\n",
              "    </tr>\n",
              "  </tbody>\n",
              "</table>\n",
              "</div>\n",
              "      <button class=\"colab-df-convert\" onclick=\"convertToInteractive('df-895f3f8b-e216-4257-badd-566acbca715c')\"\n",
              "              title=\"Convert this dataframe to an interactive table.\"\n",
              "              style=\"display:none;\">\n",
              "        \n",
              "  <svg xmlns=\"http://www.w3.org/2000/svg\" height=\"24px\"viewBox=\"0 0 24 24\"\n",
              "       width=\"24px\">\n",
              "    <path d=\"M0 0h24v24H0V0z\" fill=\"none\"/>\n",
              "    <path d=\"M18.56 5.44l.94 2.06.94-2.06 2.06-.94-2.06-.94-.94-2.06-.94 2.06-2.06.94zm-11 1L8.5 8.5l.94-2.06 2.06-.94-2.06-.94L8.5 2.5l-.94 2.06-2.06.94zm10 10l.94 2.06.94-2.06 2.06-.94-2.06-.94-.94-2.06-.94 2.06-2.06.94z\"/><path d=\"M17.41 7.96l-1.37-1.37c-.4-.4-.92-.59-1.43-.59-.52 0-1.04.2-1.43.59L10.3 9.45l-7.72 7.72c-.78.78-.78 2.05 0 2.83L4 21.41c.39.39.9.59 1.41.59.51 0 1.02-.2 1.41-.59l7.78-7.78 2.81-2.81c.8-.78.8-2.07 0-2.86zM5.41 20L4 18.59l7.72-7.72 1.47 1.35L5.41 20z\"/>\n",
              "  </svg>\n",
              "      </button>\n",
              "      \n",
              "  <style>\n",
              "    .colab-df-container {\n",
              "      display:flex;\n",
              "      flex-wrap:wrap;\n",
              "      gap: 12px;\n",
              "    }\n",
              "\n",
              "    .colab-df-convert {\n",
              "      background-color: #E8F0FE;\n",
              "      border: none;\n",
              "      border-radius: 50%;\n",
              "      cursor: pointer;\n",
              "      display: none;\n",
              "      fill: #1967D2;\n",
              "      height: 32px;\n",
              "      padding: 0 0 0 0;\n",
              "      width: 32px;\n",
              "    }\n",
              "\n",
              "    .colab-df-convert:hover {\n",
              "      background-color: #E2EBFA;\n",
              "      box-shadow: 0px 1px 2px rgba(60, 64, 67, 0.3), 0px 1px 3px 1px rgba(60, 64, 67, 0.15);\n",
              "      fill: #174EA6;\n",
              "    }\n",
              "\n",
              "    [theme=dark] .colab-df-convert {\n",
              "      background-color: #3B4455;\n",
              "      fill: #D2E3FC;\n",
              "    }\n",
              "\n",
              "    [theme=dark] .colab-df-convert:hover {\n",
              "      background-color: #434B5C;\n",
              "      box-shadow: 0px 1px 3px 1px rgba(0, 0, 0, 0.15);\n",
              "      filter: drop-shadow(0px 1px 2px rgba(0, 0, 0, 0.3));\n",
              "      fill: #FFFFFF;\n",
              "    }\n",
              "  </style>\n",
              "\n",
              "      <script>\n",
              "        const buttonEl =\n",
              "          document.querySelector('#df-895f3f8b-e216-4257-badd-566acbca715c button.colab-df-convert');\n",
              "        buttonEl.style.display =\n",
              "          google.colab.kernel.accessAllowed ? 'block' : 'none';\n",
              "\n",
              "        async function convertToInteractive(key) {\n",
              "          const element = document.querySelector('#df-895f3f8b-e216-4257-badd-566acbca715c');\n",
              "          const dataTable =\n",
              "            await google.colab.kernel.invokeFunction('convertToInteractive',\n",
              "                                                     [key], {});\n",
              "          if (!dataTable) return;\n",
              "\n",
              "          const docLinkHtml = 'Like what you see? Visit the ' +\n",
              "            '<a target=\"_blank\" href=https://colab.research.google.com/notebooks/data_table.ipynb>data table notebook</a>'\n",
              "            + ' to learn more about interactive tables.';\n",
              "          element.innerHTML = '';\n",
              "          dataTable['output_type'] = 'display_data';\n",
              "          await google.colab.output.renderOutput(dataTable, element);\n",
              "          const docLink = document.createElement('div');\n",
              "          docLink.innerHTML = docLinkHtml;\n",
              "          element.appendChild(docLink);\n",
              "        }\n",
              "      </script>\n",
              "    </div>\n",
              "  </div>\n",
              "  "
            ]
          },
          "metadata": {},
          "execution_count": 2
        }
      ],
      "source": [
        "# df = pdr.get_data_tiingo('AAPL', api_key=key)\n",
        "import yfinance as yf\n",
        "\n",
        "start = '2010-01-01'\n",
        "end = '2019-12-31'\n",
        "\n",
        "df = yf.download('AAPL', start=start, end=end)\n",
        "df.head()\n",
        "\n"
      ]
    },
    {
      "cell_type": "code",
      "execution_count": null,
      "metadata": {
        "id": "EXzN1CxFy_6r"
      },
      "outputs": [],
      "source": [
        "# df.to_csv('AAPL.csv')"
      ]
    },
    {
      "cell_type": "code",
      "execution_count": null,
      "metadata": {
        "id": "S9Qp4Utwy_6s"
      },
      "outputs": [],
      "source": [
        "# df=pd.read_csv('AAPL.csv')"
      ]
    },
    {
      "cell_type": "code",
      "execution_count": 3,
      "metadata": {
        "colab": {
          "base_uri": "https://localhost:8080/",
          "height": 238
        },
        "id": "-ysiLBcLy_6t",
        "outputId": "c580ff6d-6529-4a1a-8b31-ff191ff2aea5"
      },
      "outputs": [
        {
          "output_type": "execute_result",
          "data": {
            "text/plain": [
              "                 Open       High        Low      Close  Adj Close     Volume\n",
              "Date                                                                        \n",
              "2019-12-23  70.132500  71.062500  70.092499  71.000000  69.355133   98572000\n",
              "2019-12-24  71.172501  71.222504  70.730003  71.067497  69.421074   48478800\n",
              "2019-12-26  71.205002  72.495003  71.175003  72.477501  70.798424   93121200\n",
              "2019-12-27  72.779999  73.492500  72.029999  72.449997  70.771530  146266000\n",
              "2019-12-30  72.364998  73.172501  71.305000  72.879997  71.191589  144114400"
            ],
            "text/html": [
              "\n",
              "  <div id=\"df-ae88463a-6a9f-47e8-8362-a4bd511ff0ac\">\n",
              "    <div class=\"colab-df-container\">\n",
              "      <div>\n",
              "<style scoped>\n",
              "    .dataframe tbody tr th:only-of-type {\n",
              "        vertical-align: middle;\n",
              "    }\n",
              "\n",
              "    .dataframe tbody tr th {\n",
              "        vertical-align: top;\n",
              "    }\n",
              "\n",
              "    .dataframe thead th {\n",
              "        text-align: right;\n",
              "    }\n",
              "</style>\n",
              "<table border=\"1\" class=\"dataframe\">\n",
              "  <thead>\n",
              "    <tr style=\"text-align: right;\">\n",
              "      <th></th>\n",
              "      <th>Open</th>\n",
              "      <th>High</th>\n",
              "      <th>Low</th>\n",
              "      <th>Close</th>\n",
              "      <th>Adj Close</th>\n",
              "      <th>Volume</th>\n",
              "    </tr>\n",
              "    <tr>\n",
              "      <th>Date</th>\n",
              "      <th></th>\n",
              "      <th></th>\n",
              "      <th></th>\n",
              "      <th></th>\n",
              "      <th></th>\n",
              "      <th></th>\n",
              "    </tr>\n",
              "  </thead>\n",
              "  <tbody>\n",
              "    <tr>\n",
              "      <th>2019-12-23</th>\n",
              "      <td>70.132500</td>\n",
              "      <td>71.062500</td>\n",
              "      <td>70.092499</td>\n",
              "      <td>71.000000</td>\n",
              "      <td>69.355133</td>\n",
              "      <td>98572000</td>\n",
              "    </tr>\n",
              "    <tr>\n",
              "      <th>2019-12-24</th>\n",
              "      <td>71.172501</td>\n",
              "      <td>71.222504</td>\n",
              "      <td>70.730003</td>\n",
              "      <td>71.067497</td>\n",
              "      <td>69.421074</td>\n",
              "      <td>48478800</td>\n",
              "    </tr>\n",
              "    <tr>\n",
              "      <th>2019-12-26</th>\n",
              "      <td>71.205002</td>\n",
              "      <td>72.495003</td>\n",
              "      <td>71.175003</td>\n",
              "      <td>72.477501</td>\n",
              "      <td>70.798424</td>\n",
              "      <td>93121200</td>\n",
              "    </tr>\n",
              "    <tr>\n",
              "      <th>2019-12-27</th>\n",
              "      <td>72.779999</td>\n",
              "      <td>73.492500</td>\n",
              "      <td>72.029999</td>\n",
              "      <td>72.449997</td>\n",
              "      <td>70.771530</td>\n",
              "      <td>146266000</td>\n",
              "    </tr>\n",
              "    <tr>\n",
              "      <th>2019-12-30</th>\n",
              "      <td>72.364998</td>\n",
              "      <td>73.172501</td>\n",
              "      <td>71.305000</td>\n",
              "      <td>72.879997</td>\n",
              "      <td>71.191589</td>\n",
              "      <td>144114400</td>\n",
              "    </tr>\n",
              "  </tbody>\n",
              "</table>\n",
              "</div>\n",
              "      <button class=\"colab-df-convert\" onclick=\"convertToInteractive('df-ae88463a-6a9f-47e8-8362-a4bd511ff0ac')\"\n",
              "              title=\"Convert this dataframe to an interactive table.\"\n",
              "              style=\"display:none;\">\n",
              "        \n",
              "  <svg xmlns=\"http://www.w3.org/2000/svg\" height=\"24px\"viewBox=\"0 0 24 24\"\n",
              "       width=\"24px\">\n",
              "    <path d=\"M0 0h24v24H0V0z\" fill=\"none\"/>\n",
              "    <path d=\"M18.56 5.44l.94 2.06.94-2.06 2.06-.94-2.06-.94-.94-2.06-.94 2.06-2.06.94zm-11 1L8.5 8.5l.94-2.06 2.06-.94-2.06-.94L8.5 2.5l-.94 2.06-2.06.94zm10 10l.94 2.06.94-2.06 2.06-.94-2.06-.94-.94-2.06-.94 2.06-2.06.94z\"/><path d=\"M17.41 7.96l-1.37-1.37c-.4-.4-.92-.59-1.43-.59-.52 0-1.04.2-1.43.59L10.3 9.45l-7.72 7.72c-.78.78-.78 2.05 0 2.83L4 21.41c.39.39.9.59 1.41.59.51 0 1.02-.2 1.41-.59l7.78-7.78 2.81-2.81c.8-.78.8-2.07 0-2.86zM5.41 20L4 18.59l7.72-7.72 1.47 1.35L5.41 20z\"/>\n",
              "  </svg>\n",
              "      </button>\n",
              "      \n",
              "  <style>\n",
              "    .colab-df-container {\n",
              "      display:flex;\n",
              "      flex-wrap:wrap;\n",
              "      gap: 12px;\n",
              "    }\n",
              "\n",
              "    .colab-df-convert {\n",
              "      background-color: #E8F0FE;\n",
              "      border: none;\n",
              "      border-radius: 50%;\n",
              "      cursor: pointer;\n",
              "      display: none;\n",
              "      fill: #1967D2;\n",
              "      height: 32px;\n",
              "      padding: 0 0 0 0;\n",
              "      width: 32px;\n",
              "    }\n",
              "\n",
              "    .colab-df-convert:hover {\n",
              "      background-color: #E2EBFA;\n",
              "      box-shadow: 0px 1px 2px rgba(60, 64, 67, 0.3), 0px 1px 3px 1px rgba(60, 64, 67, 0.15);\n",
              "      fill: #174EA6;\n",
              "    }\n",
              "\n",
              "    [theme=dark] .colab-df-convert {\n",
              "      background-color: #3B4455;\n",
              "      fill: #D2E3FC;\n",
              "    }\n",
              "\n",
              "    [theme=dark] .colab-df-convert:hover {\n",
              "      background-color: #434B5C;\n",
              "      box-shadow: 0px 1px 3px 1px rgba(0, 0, 0, 0.15);\n",
              "      filter: drop-shadow(0px 1px 2px rgba(0, 0, 0, 0.3));\n",
              "      fill: #FFFFFF;\n",
              "    }\n",
              "  </style>\n",
              "\n",
              "      <script>\n",
              "        const buttonEl =\n",
              "          document.querySelector('#df-ae88463a-6a9f-47e8-8362-a4bd511ff0ac button.colab-df-convert');\n",
              "        buttonEl.style.display =\n",
              "          google.colab.kernel.accessAllowed ? 'block' : 'none';\n",
              "\n",
              "        async function convertToInteractive(key) {\n",
              "          const element = document.querySelector('#df-ae88463a-6a9f-47e8-8362-a4bd511ff0ac');\n",
              "          const dataTable =\n",
              "            await google.colab.kernel.invokeFunction('convertToInteractive',\n",
              "                                                     [key], {});\n",
              "          if (!dataTable) return;\n",
              "\n",
              "          const docLinkHtml = 'Like what you see? Visit the ' +\n",
              "            '<a target=\"_blank\" href=https://colab.research.google.com/notebooks/data_table.ipynb>data table notebook</a>'\n",
              "            + ' to learn more about interactive tables.';\n",
              "          element.innerHTML = '';\n",
              "          dataTable['output_type'] = 'display_data';\n",
              "          await google.colab.output.renderOutput(dataTable, element);\n",
              "          const docLink = document.createElement('div');\n",
              "          docLink.innerHTML = docLinkHtml;\n",
              "          element.appendChild(docLink);\n",
              "        }\n",
              "      </script>\n",
              "    </div>\n",
              "  </div>\n",
              "  "
            ]
          },
          "metadata": {},
          "execution_count": 3
        }
      ],
      "source": [
        "df.tail()"
      ]
    },
    {
      "cell_type": "code",
      "execution_count": 4,
      "metadata": {
        "colab": {
          "base_uri": "https://localhost:8080/",
          "height": 206
        },
        "id": "eB0hDFfiy_6u",
        "outputId": "72109df4-3449-4b6f-9eb7-d0b6fbda18a3"
      },
      "outputs": [
        {
          "output_type": "execute_result",
          "data": {
            "text/plain": [
              "        Date      Open      High       Low     Close  Adj Close     Volume\n",
              "0 2010-01-04  7.622500  7.660714  7.585000  7.643214   6.496295  493729600\n",
              "1 2010-01-05  7.664286  7.699643  7.616071  7.656429   6.507527  601904800\n",
              "2 2010-01-06  7.656429  7.686786  7.526786  7.534643   6.404017  552160000\n",
              "3 2010-01-07  7.562500  7.571429  7.466071  7.520714   6.392175  477131200\n",
              "4 2010-01-08  7.510714  7.571429  7.466429  7.570714   6.434674  447610800"
            ],
            "text/html": [
              "\n",
              "  <div id=\"df-50a08a58-2f6d-45c7-bedc-0a419834c094\">\n",
              "    <div class=\"colab-df-container\">\n",
              "      <div>\n",
              "<style scoped>\n",
              "    .dataframe tbody tr th:only-of-type {\n",
              "        vertical-align: middle;\n",
              "    }\n",
              "\n",
              "    .dataframe tbody tr th {\n",
              "        vertical-align: top;\n",
              "    }\n",
              "\n",
              "    .dataframe thead th {\n",
              "        text-align: right;\n",
              "    }\n",
              "</style>\n",
              "<table border=\"1\" class=\"dataframe\">\n",
              "  <thead>\n",
              "    <tr style=\"text-align: right;\">\n",
              "      <th></th>\n",
              "      <th>Date</th>\n",
              "      <th>Open</th>\n",
              "      <th>High</th>\n",
              "      <th>Low</th>\n",
              "      <th>Close</th>\n",
              "      <th>Adj Close</th>\n",
              "      <th>Volume</th>\n",
              "    </tr>\n",
              "  </thead>\n",
              "  <tbody>\n",
              "    <tr>\n",
              "      <th>0</th>\n",
              "      <td>2010-01-04</td>\n",
              "      <td>7.622500</td>\n",
              "      <td>7.660714</td>\n",
              "      <td>7.585000</td>\n",
              "      <td>7.643214</td>\n",
              "      <td>6.496295</td>\n",
              "      <td>493729600</td>\n",
              "    </tr>\n",
              "    <tr>\n",
              "      <th>1</th>\n",
              "      <td>2010-01-05</td>\n",
              "      <td>7.664286</td>\n",
              "      <td>7.699643</td>\n",
              "      <td>7.616071</td>\n",
              "      <td>7.656429</td>\n",
              "      <td>6.507527</td>\n",
              "      <td>601904800</td>\n",
              "    </tr>\n",
              "    <tr>\n",
              "      <th>2</th>\n",
              "      <td>2010-01-06</td>\n",
              "      <td>7.656429</td>\n",
              "      <td>7.686786</td>\n",
              "      <td>7.526786</td>\n",
              "      <td>7.534643</td>\n",
              "      <td>6.404017</td>\n",
              "      <td>552160000</td>\n",
              "    </tr>\n",
              "    <tr>\n",
              "      <th>3</th>\n",
              "      <td>2010-01-07</td>\n",
              "      <td>7.562500</td>\n",
              "      <td>7.571429</td>\n",
              "      <td>7.466071</td>\n",
              "      <td>7.520714</td>\n",
              "      <td>6.392175</td>\n",
              "      <td>477131200</td>\n",
              "    </tr>\n",
              "    <tr>\n",
              "      <th>4</th>\n",
              "      <td>2010-01-08</td>\n",
              "      <td>7.510714</td>\n",
              "      <td>7.571429</td>\n",
              "      <td>7.466429</td>\n",
              "      <td>7.570714</td>\n",
              "      <td>6.434674</td>\n",
              "      <td>447610800</td>\n",
              "    </tr>\n",
              "  </tbody>\n",
              "</table>\n",
              "</div>\n",
              "      <button class=\"colab-df-convert\" onclick=\"convertToInteractive('df-50a08a58-2f6d-45c7-bedc-0a419834c094')\"\n",
              "              title=\"Convert this dataframe to an interactive table.\"\n",
              "              style=\"display:none;\">\n",
              "        \n",
              "  <svg xmlns=\"http://www.w3.org/2000/svg\" height=\"24px\"viewBox=\"0 0 24 24\"\n",
              "       width=\"24px\">\n",
              "    <path d=\"M0 0h24v24H0V0z\" fill=\"none\"/>\n",
              "    <path d=\"M18.56 5.44l.94 2.06.94-2.06 2.06-.94-2.06-.94-.94-2.06-.94 2.06-2.06.94zm-11 1L8.5 8.5l.94-2.06 2.06-.94-2.06-.94L8.5 2.5l-.94 2.06-2.06.94zm10 10l.94 2.06.94-2.06 2.06-.94-2.06-.94-.94-2.06-.94 2.06-2.06.94z\"/><path d=\"M17.41 7.96l-1.37-1.37c-.4-.4-.92-.59-1.43-.59-.52 0-1.04.2-1.43.59L10.3 9.45l-7.72 7.72c-.78.78-.78 2.05 0 2.83L4 21.41c.39.39.9.59 1.41.59.51 0 1.02-.2 1.41-.59l7.78-7.78 2.81-2.81c.8-.78.8-2.07 0-2.86zM5.41 20L4 18.59l7.72-7.72 1.47 1.35L5.41 20z\"/>\n",
              "  </svg>\n",
              "      </button>\n",
              "      \n",
              "  <style>\n",
              "    .colab-df-container {\n",
              "      display:flex;\n",
              "      flex-wrap:wrap;\n",
              "      gap: 12px;\n",
              "    }\n",
              "\n",
              "    .colab-df-convert {\n",
              "      background-color: #E8F0FE;\n",
              "      border: none;\n",
              "      border-radius: 50%;\n",
              "      cursor: pointer;\n",
              "      display: none;\n",
              "      fill: #1967D2;\n",
              "      height: 32px;\n",
              "      padding: 0 0 0 0;\n",
              "      width: 32px;\n",
              "    }\n",
              "\n",
              "    .colab-df-convert:hover {\n",
              "      background-color: #E2EBFA;\n",
              "      box-shadow: 0px 1px 2px rgba(60, 64, 67, 0.3), 0px 1px 3px 1px rgba(60, 64, 67, 0.15);\n",
              "      fill: #174EA6;\n",
              "    }\n",
              "\n",
              "    [theme=dark] .colab-df-convert {\n",
              "      background-color: #3B4455;\n",
              "      fill: #D2E3FC;\n",
              "    }\n",
              "\n",
              "    [theme=dark] .colab-df-convert:hover {\n",
              "      background-color: #434B5C;\n",
              "      box-shadow: 0px 1px 3px 1px rgba(0, 0, 0, 0.15);\n",
              "      filter: drop-shadow(0px 1px 2px rgba(0, 0, 0, 0.3));\n",
              "      fill: #FFFFFF;\n",
              "    }\n",
              "  </style>\n",
              "\n",
              "      <script>\n",
              "        const buttonEl =\n",
              "          document.querySelector('#df-50a08a58-2f6d-45c7-bedc-0a419834c094 button.colab-df-convert');\n",
              "        buttonEl.style.display =\n",
              "          google.colab.kernel.accessAllowed ? 'block' : 'none';\n",
              "\n",
              "        async function convertToInteractive(key) {\n",
              "          const element = document.querySelector('#df-50a08a58-2f6d-45c7-bedc-0a419834c094');\n",
              "          const dataTable =\n",
              "            await google.colab.kernel.invokeFunction('convertToInteractive',\n",
              "                                                     [key], {});\n",
              "          if (!dataTable) return;\n",
              "\n",
              "          const docLinkHtml = 'Like what you see? Visit the ' +\n",
              "            '<a target=\"_blank\" href=https://colab.research.google.com/notebooks/data_table.ipynb>data table notebook</a>'\n",
              "            + ' to learn more about interactive tables.';\n",
              "          element.innerHTML = '';\n",
              "          dataTable['output_type'] = 'display_data';\n",
              "          await google.colab.output.renderOutput(dataTable, element);\n",
              "          const docLink = document.createElement('div');\n",
              "          docLink.innerHTML = docLinkHtml;\n",
              "          element.appendChild(docLink);\n",
              "        }\n",
              "      </script>\n",
              "    </div>\n",
              "  </div>\n",
              "  "
            ]
          },
          "metadata": {},
          "execution_count": 4
        }
      ],
      "source": [
        "df=df.reset_index()\n",
        "df.head()"
      ]
    },
    {
      "cell_type": "code",
      "source": [],
      "metadata": {
        "id": "1LiKH9HU5irD"
      },
      "execution_count": null,
      "outputs": []
    },
    {
      "cell_type": "code",
      "execution_count": 5,
      "metadata": {
        "colab": {
          "base_uri": "https://localhost:8080/"
        },
        "id": "ZpbEjY7my_6v",
        "outputId": "53fa9821-99d6-4ecb-af27-680ba041efd8"
      },
      "outputs": [
        {
          "output_type": "execute_result",
          "data": {
            "text/plain": [
              "0    7.643214\n",
              "1    7.656429\n",
              "2    7.534643\n",
              "3    7.520714\n",
              "4    7.570714\n",
              "Name: Close, dtype: float64"
            ]
          },
          "metadata": {},
          "execution_count": 5
        }
      ],
      "source": [
        "df1=df.reset_index()['Close']\n",
        "df1.head()"
      ]
    },
    {
      "cell_type": "code",
      "execution_count": 6,
      "metadata": {
        "colab": {
          "base_uri": "https://localhost:8080/",
          "height": 447
        },
        "id": "cw7ehNlgy_6w",
        "outputId": "51e292e4-dd45-446c-ab02-a1abb1ac3781"
      },
      "outputs": [
        {
          "output_type": "execute_result",
          "data": {
            "text/plain": [
              "[<matplotlib.lines.Line2D at 0x7f90343365c0>]"
            ]
          },
          "metadata": {},
          "execution_count": 6
        },
        {
          "output_type": "display_data",
          "data": {
            "text/plain": [
              "<Figure size 640x480 with 1 Axes>"
            ],
            "image/png": "[encoded data removed]"
          },
          "metadata": {}
        }
      ],
      "source": [
        "plt.plot(df.Close)"
      ]
    },
    {
      "cell_type": "code",
      "execution_count": null,
      "metadata": {
        "id": "bsMrf4kYy_6x"
      },
      "outputs": [],
      "source": [
        "### LSTM are sensitive to the scale of the data. so we apply MinMax scaler"
      ]
    },
    {
      "cell_type": "code",
      "execution_count": 7,
      "metadata": {
        "colab": {
          "base_uri": "https://localhost:8080/"
        },
        "id": "GMz-5uaTy_6y",
        "outputId": "5d7644ca-1906-4a1d-e5b2-8d9a996dd51b"
      },
      "outputs": [
        {
          "output_type": "execute_result",
          "data": {
            "text/plain": [
              "0        7.643214\n",
              "1        7.656429\n",
              "2        7.534643\n",
              "3        7.520714\n",
              "4        7.570714\n",
              "          ...    \n",
              "2510    71.000000\n",
              "2511    71.067497\n",
              "2512    72.477501\n",
              "2513    72.449997\n",
              "2514    72.879997\n",
              "Name: Close, Length: 2515, dtype: float64"
            ]
          },
          "metadata": {},
          "execution_count": 7
        }
      ],
      "source": [
        "df1"
      ]
    },
    {
      "cell_type": "code",
      "execution_count": 8,
      "metadata": {
        "id": "Zd2hGprfy_6y"
      },
      "outputs": [],
      "source": [
        "from sklearn.preprocessing import MinMaxScaler\n",
        "scaler=MinMaxScaler(feature_range=(0,1))\n",
        "df1=scaler.fit_transform(np.array(df1).reshape(-1,1))"
      ]
    },
    {
      "cell_type": "code",
      "execution_count": 9,
      "metadata": {
        "colab": {
          "base_uri": "https://localhost:8080/"
        },
        "id": "IYF-UrIgy_6z",
        "outputId": "0b13a1ed-3156-4b94-da8d-39425bcf644b"
      },
      "outputs": [
        {
          "output_type": "stream",
          "name": "stdout",
          "text": [
            "[[0.01187932]\n",
            " [0.01207947]\n",
            " [0.01023482]\n",
            " ...\n",
            " [0.99390352]\n",
            " [0.99348692]\n",
            " [1.        ]]\n"
          ]
        }
      ],
      "source": [
        "print(df1)"
      ]
    },
    {
      "cell_type": "code",
      "execution_count": 12,
      "metadata": {
        "id": "u-ElR7LTy_6z"
      },
      "outputs": [],
      "source": [
        "##splitting dataset into train and test split\n",
        "training_size=int(len(df1)*0.65)\n",
        "test_size=len(df1)-training_size\n",
        "train_data,test_data=df1[0:training_size,:],df1[training_size:len(df1),:1]"
      ]
    },
    {
      "cell_type": "code",
      "execution_count": 13,
      "metadata": {
        "colab": {
          "base_uri": "https://localhost:8080/"
        },
        "id": "1Oq98zKFy_60",
        "outputId": "923bdc7d-4d7f-4af1-c507-3a08feea08d9"
      },
      "outputs": [
        {
          "output_type": "execute_result",
          "data": {
            "text/plain": [
              "(1634, 881)"
            ]
          },
          "metadata": {},
          "execution_count": 13
        }
      ],
      "source": [
        "training_size,test_size"
      ]
    },
    {
      "cell_type": "code",
      "execution_count": 14,
      "metadata": {
        "colab": {
          "base_uri": "https://localhost:8080/"
        },
        "id": "50ctmw0ny_61",
        "outputId": "76f5a40e-1da4-41da-bab4-7e8f5ae8fa2d"
      },
      "outputs": [
        {
          "output_type": "execute_result",
          "data": {
            "text/plain": [
              "array([[0.01187932],\n",
              "       [0.01207947],\n",
              "       [0.01023482],\n",
              "       ...,\n",
              "       [0.24463511],\n",
              "       [0.25050443],\n",
              "       [0.25357165]])"
            ]
          },
          "metadata": {},
          "execution_count": 14
        }
      ],
      "source": [
        "train_data"
      ]
    },
    {
      "cell_type": "code",
      "execution_count": 15,
      "metadata": {
        "id": "Q-lHIIhzy_61"
      },
      "outputs": [],
      "source": [
        "import numpy\n",
        "# convert an array of values into a dataset matrix\n",
        "def create_dataset(dataset, time_step=1):\n",
        "\tdataX, dataY = [], []\n",
        "\tfor i in range(len(dataset)-time_step-1):\n",
        "\t\ta = dataset[i:(i+time_step), 0]   ###i=0, 0,1,2,3-----99   100\n",
        "\t\tdataX.append(a)\n",
        "\t\tdataY.append(dataset[i + time_step, 0])\n",
        "\treturn numpy.array(dataX), numpy.array(dataY)"
      ]
    },
    {
      "cell_type": "code",
      "execution_count": 16,
      "metadata": {
        "id": "PWK9drLuy_62"
      },
      "outputs": [],
      "source": [
        "# reshape into X=t,t+1,t+2,t+3 and Y=t+4\n",
        "time_step = 100\n",
        "X_train, y_train = create_dataset(train_data, time_step)\n",
        "X_test, ytest = create_dataset(test_data, time_step)"
      ]
    },
    {
      "cell_type": "code",
      "execution_count": 17,
      "metadata": {
        "colab": {
          "base_uri": "https://localhost:8080/"
        },
        "id": "TGXGka2oy_63",
        "outputId": "b2166f20-0e75-402c-f0e1-0aee70582973"
      },
      "outputs": [
        {
          "output_type": "stream",
          "name": "stdout",
          "text": [
            "(1533, 100)\n",
            "(1533,)\n"
          ]
        },
        {
          "output_type": "execute_result",
          "data": {
            "text/plain": [
              "(None, None)"
            ]
          },
          "metadata": {},
          "execution_count": 17
        }
      ],
      "source": [
        "print(X_train.shape), print(y_train.shape)"
      ]
    },
    {
      "cell_type": "code",
      "execution_count": 18,
      "metadata": {
        "colab": {
          "base_uri": "https://localhost:8080/"
        },
        "id": "w0djHhhny_63",
        "outputId": "015f1142-e287-400f-ac94-c65402d87792"
      },
      "outputs": [
        {
          "output_type": "stream",
          "name": "stdout",
          "text": [
            "(780, 100)\n",
            "(780,)\n"
          ]
        },
        {
          "output_type": "execute_result",
          "data": {
            "text/plain": [
              "(None, None)"
            ]
          },
          "metadata": {},
          "execution_count": 18
        }
      ],
      "source": [
        "print(X_test.shape), print(ytest.shape)"
      ]
    },
    {
      "cell_type": "code",
      "execution_count": 19,
      "metadata": {
        "id": "ATKa6kl1y_64"
      },
      "outputs": [],
      "source": [
        "# reshape input to be [samples, time steps, features] which is required for LSTM\n",
        "X_train =X_train.reshape(X_train.shape[0],X_train.shape[1] , 1)\n",
        "X_test = X_test.reshape(X_test.shape[0],X_test.shape[1] , 1)"
      ]
    },
    {
      "cell_type": "code",
      "execution_count": 20,
      "metadata": {
        "id": "WWvnH38hy_65"
      },
      "outputs": [],
      "source": [
        "### Create the Stacked LSTM model\n",
        "from tensorflow.keras.models import Sequential\n",
        "from tensorflow.keras.layers import Dense\n",
        "from tensorflow.keras.layers import LSTM"
      ]
    },
    {
      "cell_type": "code",
      "execution_count": 21,
      "metadata": {
        "id": "pRWhtZZSy_65"
      },
      "outputs": [],
      "source": [
        "model=Sequential()\n",
        "model.add(LSTM(50,return_sequences=True,input_shape=(100,1)))\n",
        "model.add(LSTM(50,return_sequences=True))\n",
        "model.add(LSTM(50))\n",
        "model.add(Dense(1))\n",
        "model.compile(loss='mean_squared_error',optimizer='adam')\n"
      ]
    },
    {
      "cell_type": "code",
      "execution_count": 22,
      "metadata": {
        "colab": {
          "base_uri": "https://localhost:8080/"
        },
        "id": "Ocggpisgy_65",
        "outputId": "f40611d2-d6f3-47ef-8959-c37f37ef80fa"
      },
      "outputs": [
        {
          "output_type": "stream",
          "name": "stdout",
          "text": [
            "Model: \"sequential\"\n",
            "_________________________________________________________________\n",
            " Layer (type)                Output Shape              Param #   \n",
            "=================================================================\n",
            " lstm (LSTM)                 (None, 100, 50)           10400     \n",
            "                                                                 \n",
            " lstm_1 (LSTM)               (None, 100, 50)           20200     \n",
            "                                                                 \n",
            " lstm_2 (LSTM)               (None, 50)                20200     \n",
            "                                                                 \n",
            " dense (Dense)               (None, 1)                 51        \n",
            "                                                                 \n",
            "=================================================================\n",
            "Total params: 50,851\n",
            "Trainable params: 50,851\n",
            "Non-trainable params: 0\n",
            "_________________________________________________________________\n"
          ]
        }
      ],
      "source": [
        "model.summary()"
      ]
    },
    {
      "cell_type": "code",
      "execution_count": 23,
      "metadata": {
        "colab": {
          "base_uri": "https://localhost:8080/"
        },
        "id": "SSrIZHBKy_66",
        "outputId": "628b6e48-a61f-466f-e66d-91c53be7f57c"
      },
      "outputs": [
        {
          "output_type": "stream",
          "name": "stdout",
          "text": [
            "Model: \"sequential\"\n",
            "_________________________________________________________________\n",
            " Layer (type)                Output Shape              Param #   \n",
            "=================================================================\n",
            " lstm (LSTM)                 (None, 100, 50)           10400     \n",
            "                                                                 \n",
            " lstm_1 (LSTM)               (None, 100, 50)           20200     \n",
            "                                                                 \n",
            " lstm_2 (LSTM)               (None, 50)                20200     \n",
            "                                                                 \n",
            " dense (Dense)               (None, 1)                 51        \n",
            "                                                                 \n",
            "=================================================================\n",
            "Total params: 50,851\n",
            "Trainable params: 50,851\n",
            "Non-trainable params: 0\n",
            "_________________________________________________________________\n"
          ]
        }
      ],
      "source": [
        "model.summary()"
      ]
    },
    {
      "cell_type": "code",
      "execution_count": 24,
      "metadata": {
        "colab": {
          "base_uri": "https://localhost:8080/"
        },
        "id": "wBy0N65Xy_68",
        "outputId": "7fa40fa1-4c36-48ae-cc37-e6873a7f96ef"
      },
      "outputs": [
        {
          "output_type": "stream",
          "name": "stdout",
          "text": [
            "Epoch 1/10\n",
            "24/24 [==============================] - 11s 278ms/step - loss: 0.0042 - val_loss: 0.0136\n",
            "Epoch 2/10\n",
            "24/24 [==============================] - 4s 177ms/step - loss: 4.0291e-04 - val_loss: 0.0024\n",
            "Epoch 3/10\n",
            "24/24 [==============================] - 6s 233ms/step - loss: 2.5456e-04 - val_loss: 0.0032\n",
            "Epoch 4/10\n",
            "24/24 [==============================] - 4s 178ms/step - loss: 2.4509e-04 - val_loss: 0.0031\n",
            "Epoch 5/10\n",
            "24/24 [==============================] - 4s 178ms/step - loss: 2.5048e-04 - val_loss: 0.0031\n",
            "Epoch 6/10\n",
            "24/24 [==============================] - 6s 233ms/step - loss: 2.4885e-04 - val_loss: 0.0020\n",
            "Epoch 7/10\n",
            "24/24 [==============================] - 4s 178ms/step - loss: 2.3697e-04 - val_loss: 0.0024\n",
            "Epoch 8/10\n",
            "24/24 [==============================] - 5s 189ms/step - loss: 2.2085e-04 - val_loss: 0.0033\n",
            "Epoch 9/10\n",
            "24/24 [==============================] - 5s 211ms/step - loss: 2.1637e-04 - val_loss: 0.0021\n",
            "Epoch 10/10\n",
            "24/24 [==============================] - 4s 177ms/step - loss: 2.0688e-04 - val_loss: 0.0024\n"
          ]
        },
        {
          "output_type": "execute_result",
          "data": {
            "text/plain": [
              "<keras.callbacks.History at 0x7f8fcf740fa0>"
            ]
          },
          "metadata": {},
          "execution_count": 24
        }
      ],
      "source": [
        "model.fit(X_train,y_train,validation_data=(X_test,ytest),epochs=10,batch_size=64,verbose=1)"
      ]
    },
    {
      "cell_type": "code",
      "source": [
        "model.save('keras_model.h5')"
      ],
      "metadata": {
        "id": "TDi8Flqv77ls"
      },
      "execution_count": 25,
      "outputs": []
    },
    {
      "cell_type": "code",
      "execution_count": 26,
      "metadata": {
        "id": "AoeuWdu6y_69"
      },
      "outputs": [],
      "source": [
        "import tensorflow as tf"
      ]
    },
    {
      "cell_type": "code",
      "execution_count": 27,
      "metadata": {
        "colab": {
          "base_uri": "https://localhost:8080/",
          "height": 35
        },
        "id": "IeWjZ_QLy_6-",
        "outputId": "2e0e1364-9b5a-4c01-edb3-3766ff8194c0"
      },
      "outputs": [
        {
          "output_type": "execute_result",
          "data": {
            "text/plain": [
              "'2.12.0'"
            ],
            "application/vnd.google.colaboratory.intrinsic+json": {
              "type": "string"
            }
          },
          "metadata": {},
          "execution_count": 27
        }
      ],
      "source": [
        "tf.__version__"
      ]
    },
    {
      "cell_type": "code",
      "execution_count": 28,
      "metadata": {
        "colab": {
          "base_uri": "https://localhost:8080/"
        },
        "id": "WrNqOGvHy_6-",
        "outputId": "bc824814-447e-4592-c5dd-83f7f0edd008"
      },
      "outputs": [
        {
          "output_type": "stream",
          "name": "stdout",
          "text": [
            "48/48 [==============================] - 3s 32ms/step\n",
            "25/25 [==============================] - 1s 32ms/step\n"
          ]
        }
      ],
      "source": [
        "### Lets Do the prediction and check performance metrics\n",
        "train_predict=model.predict(X_train)\n",
        "test_predict=model.predict(X_test)"
      ]
    },
    {
      "cell_type": "code",
      "execution_count": 29,
      "metadata": {
        "id": "1xqaWj20y_6_"
      },
      "outputs": [],
      "source": [
        "##Transformback to original form\n",
        "train_predict=scaler.inverse_transform(train_predict)\n",
        "test_predict=scaler.inverse_transform(test_predict)"
      ]
    },
    {
      "cell_type": "code",
      "execution_count": 30,
      "metadata": {
        "colab": {
          "base_uri": "https://localhost:8080/"
        },
        "id": "m2UgS2SBy_6_",
        "outputId": "049a1872-aee7-4a00-fb0a-e8519d74785e"
      },
      "outputs": [
        {
          "output_type": "execute_result",
          "data": {
            "text/plain": [
              "20.829822336240635"
            ]
          },
          "metadata": {},
          "execution_count": 30
        }
      ],
      "source": [
        "### Calculate RMSE performance metrics\n",
        "import math\n",
        "from sklearn.metrics import mean_squared_error\n",
        "math.sqrt(mean_squared_error(y_train,train_predict))"
      ]
    },
    {
      "cell_type": "code",
      "execution_count": 31,
      "metadata": {
        "colab": {
          "base_uri": "https://localhost:8080/"
        },
        "id": "Zwkcqudly_7A",
        "outputId": "3f04dbc1-bc70-4afe-d47b-3e63255c5670"
      },
      "outputs": [
        {
          "output_type": "execute_result",
          "data": {
            "text/plain": [
              "42.92564991891119"
            ]
          },
          "metadata": {},
          "execution_count": 31
        }
      ],
      "source": [
        "### Test Data RMSE\n",
        "math.sqrt(mean_squared_error(ytest,test_predict))"
      ]
    },
    {
      "cell_type": "code",
      "execution_count": 32,
      "metadata": {
        "colab": {
          "base_uri": "https://localhost:8080/",
          "height": 430
        },
        "id": "AjGQ8w7Gy_7A",
        "outputId": "20ae9b7d-c74d-4755-a0be-bba6054a1cb2"
      },
      "outputs": [
        {
          "output_type": "display_data",
          "data": {
            "text/plain": [
              "<Figure size 640x480 with 1 Axes>"
            ],
            "image/png": "[encoded data removed]"
          },
          "metadata": {}
        }
      ],
      "source": [
        "### Plotting\n",
        "# shift train predictions for plotting\n",
        "look_back=100\n",
        "trainPredictPlot = numpy.empty_like(df1)\n",
        "trainPredictPlot[:, :] = np.nan\n",
        "trainPredictPlot[look_back:len(train_predict)+look_back, :] = train_predict\n",
        "# shift test predictions for plotting\n",
        "testPredictPlot = numpy.empty_like(df1)\n",
        "testPredictPlot[:, :] = numpy.nan\n",
        "testPredictPlot[len(train_predict)+(look_back*2)+1:len(df1)-1, :] = test_predict\n",
        "# plot baseline and predictions\n",
        "plt.plot(scaler.inverse_transform(df1))\n",
        "plt.plot(trainPredictPlot)\n",
        "plt.plot(testPredictPlot)\n",
        "plt.show()"
      ]
    },
    {
      "cell_type": "code",
      "execution_count": 33,
      "metadata": {
        "colab": {
          "base_uri": "https://localhost:8080/"
        },
        "id": "u0FZ-xDSy_7B",
        "outputId": "9615688a-1f67-4491-b900-c904cc116349"
      },
      "outputs": [
        {
          "output_type": "execute_result",
          "data": {
            "text/plain": [
              "881"
            ]
          },
          "metadata": {},
          "execution_count": 33
        }
      ],
      "source": [
        "len(test_data)"
      ]
    },
    {
      "cell_type": "code",
      "execution_count": 49,
      "metadata": {
        "colab": {
          "base_uri": "https://localhost:8080/"
        },
        "id": "bBlSWOhIy_7U",
        "outputId": "4a66aeeb-ffce-4af5-e6af-e694b3420bc8"
      },
      "outputs": [
        {
          "output_type": "execute_result",
          "data": {
            "text/plain": [
              "(1, 100)"
            ]
          },
          "metadata": {},
          "execution_count": 49
        }
      ],
      "source": [
        "x_input=test_data[781:].reshape(1,-1)\n",
        "x_input.shape\n"
      ]
    },
    {
      "cell_type": "code",
      "execution_count": 50,
      "metadata": {
        "id": "bpZysZTsy_7V"
      },
      "outputs": [],
      "source": [
        "temp_input=list(x_input)\n",
        "temp_input=temp_input[0].tolist()"
      ]
    },
    {
      "cell_type": "code",
      "execution_count": 51,
      "metadata": {
        "colab": {
          "base_uri": "https://localhost:8080/"
        },
        "id": "KsGoPzHKy_7W",
        "outputId": "58580795-ede7-4728-a478-30973f5e2471"
      },
      "outputs": [
        {
          "output_type": "execute_result",
          "data": {
            "text/plain": [
              "[0.6664322508021759,\n",
              " 0.6571928244607871,\n",
              " 0.6552615857655794,\n",
              " 0.6874104351328685,\n",
              " 0.6638573429152314,\n",
              " 0.6600328269843285,\n",
              " 0.6780573555329387,\n",
              " 0.6926360582657846,\n",
              " 0.6926739041652987,\n",
              " 0.7013075072144649,\n",
              " 0.7006259343432145,\n",
              " 0.6634408069005786,\n",
              " 0.6780195096334245,\n",
              " 0.6691965615266892,\n",
              " 0.6743842809800917,\n",
              " 0.6875618765109244,\n",
              " 0.6865395172040489,\n",
              " 0.6750280079518279,\n",
              " 0.688243507162174,\n",
              " 0.7037309737233536,\n",
              " 0.703655224144326,\n",
              " 0.7071011077400895,\n",
              " 0.7166813782971028,\n",
              " 0.7427715325021704,\n",
              " 0.7408781974864761,\n",
              " 0.7244440634174493,\n",
              " 0.7287987108415466,\n",
              " 0.7318280584226573,\n",
              " 0.7396664931220314,\n",
              " 0.7328126296100178,\n",
              " 0.7205816438070332,\n",
              " 0.7243304679389075,\n",
              " 0.7203922987494639,\n",
              " 0.7330776664666154,\n",
              " 0.7287608649420324,\n",
              " 0.7247091580540461,\n",
              " 0.7442104856036978,\n",
              " 0.7465582025335591,\n",
              " 0.7252392895472406,\n",
              " 0.7322824981168234,\n",
              " 0.7557219370759196,\n",
              " 0.7559112821334889,\n",
              " 0.7458387259827953,\n",
              " 0.7557976866549472,\n",
              " 0.7673848877061965,\n",
              " 0.7905593475886943,\n",
              " 0.7892718358652228,\n",
              " 0.7871892135719585,\n",
              " 0.7835918308181399,\n",
              " 0.7870377144139034,\n",
              " 0.7913166700389722,\n",
              " 0.806841982499666,\n",
              " 0.8047593602064017,\n",
              " 0.8169523845498737,\n",
              " 0.8184670872304287,\n",
              " 0.8298270973245946,\n",
              " 0.8391801769245244,\n",
              " 0.8173689205645265,\n",
              " 0.8172553250859848,\n",
              " 0.8380820102586222,\n",
              " 0.8648159492154253,\n",
              " 0.8711775271337584,\n",
              " 0.8697764777117444,\n",
              " 0.8701929559463979,\n",
              " 0.8784857725599389,\n",
              " 0.8811743914854238,\n",
              " 0.8889749225052844,\n",
              " 0.8880660431169521,\n",
              " 0.8975706218749372,\n",
              " 0.8906410665638953,\n",
              " 0.9024554585722281,\n",
              " 0.9075295825470889,\n",
              " 0.9044623890664641,\n",
              " 0.8927236888571596,\n",
              " 0.8882554459545207,\n",
              " 0.8873844702457018,\n",
              " 0.9047652718225757,\n",
              " 0.8968890490036868,\n",
              " 0.910331681391117,\n",
              " 0.9080975599397975,\n",
              " 0.8963967634100064,\n",
              " 0.8785615799189657,\n",
              " 0.8872329710876466,\n",
              " 0.9017737701409793,\n",
              " 0.9211994058916025,\n",
              " 0.9068480096758386,\n",
              " 0.9127552056800049,\n",
              " 0.921426596848686,\n",
              " 0.9240394084151441,\n",
              " 0.938012230075768,\n",
              " 0.9558474135668088,\n",
              " 0.9579301514200717,\n",
              " 0.9553930316526419,\n",
              " 0.9564532946390308,\n",
              " 0.9542570768672248,\n",
              " 0.9715242829655569,\n",
              " 0.9725466422724324,\n",
              " 0.9939035167182636,\n",
              " 0.9934869229236115,\n",
              " 0.9999999999999999]"
            ]
          },
          "metadata": {},
          "execution_count": 51
        }
      ],
      "source": [
        "temp_input"
      ]
    },
    {
      "cell_type": "code",
      "execution_count": 52,
      "metadata": {
        "colab": {
          "base_uri": "https://localhost:8080/"
        },
        "id": "1LmPIlrry_7X",
        "outputId": "20391078-89c5-4df4-9f85-b51eab3126a0"
      },
      "outputs": [
        {
          "output_type": "stream",
          "name": "stdout",
          "text": [
            "[0.8431288]\n",
            "101\n",
            "1 day input [0.65719282 0.65526159 0.68741044 0.66385734 0.66003283 0.67805736\n",
            " 0.69263606 0.6926739  0.70130751 0.70062593 0.66344081 0.67801951\n",
            " 0.66919656 0.67438428 0.68756188 0.68653952 0.67502801 0.68824351\n",
            " 0.70373097 0.70365522 0.70710111 0.71668138 0.74277153 0.7408782\n",
            " 0.72444406 0.72879871 0.73182806 0.73966649 0.73281263 0.72058164\n",
            " 0.72433047 0.7203923  0.73307767 0.72876086 0.72470916 0.74421049\n",
            " 0.7465582  0.72523929 0.7322825  0.75572194 0.75591128 0.74583873\n",
            " 0.75579769 0.76738489 0.79055935 0.78927184 0.78718921 0.78359183\n",
            " 0.78703771 0.79131667 0.80684198 0.80475936 0.81695238 0.81846709\n",
            " 0.8298271  0.83918018 0.81736892 0.81725533 0.83808201 0.86481595\n",
            " 0.87117753 0.86977648 0.87019296 0.87848577 0.88117439 0.88897492\n",
            " 0.88806604 0.89757062 0.89064107 0.90245546 0.90752958 0.90446239\n",
            " 0.89272369 0.88825545 0.88738447 0.90476527 0.89688905 0.91033168\n",
            " 0.90809756 0.89639676 0.87856158 0.88723297 0.90177377 0.92119941\n",
            " 0.90684801 0.91275521 0.9214266  0.92403941 0.93801223 0.95584741\n",
            " 0.95793015 0.95539303 0.95645329 0.95425708 0.97152428 0.97254664\n",
            " 0.99390352 0.99348692 1.         0.8431288 ]\n",
            "1 day output [[0.8457231]]\n",
            "2 day input [0.65526159 0.68741044 0.66385734 0.66003283 0.67805736 0.69263606\n",
            " 0.6926739  0.70130751 0.70062593 0.66344081 0.67801951 0.66919656\n",
            " 0.67438428 0.68756188 0.68653952 0.67502801 0.68824351 0.70373097\n",
            " 0.70365522 0.70710111 0.71668138 0.74277153 0.7408782  0.72444406\n",
            " 0.72879871 0.73182806 0.73966649 0.73281263 0.72058164 0.72433047\n",
            " 0.7203923  0.73307767 0.72876086 0.72470916 0.74421049 0.7465582\n",
            " 0.72523929 0.7322825  0.75572194 0.75591128 0.74583873 0.75579769\n",
            " 0.76738489 0.79055935 0.78927184 0.78718921 0.78359183 0.78703771\n",
            " 0.79131667 0.80684198 0.80475936 0.81695238 0.81846709 0.8298271\n",
            " 0.83918018 0.81736892 0.81725533 0.83808201 0.86481595 0.87117753\n",
            " 0.86977648 0.87019296 0.87848577 0.88117439 0.88897492 0.88806604\n",
            " 0.89757062 0.89064107 0.90245546 0.90752958 0.90446239 0.89272369\n",
            " 0.88825545 0.88738447 0.90476527 0.89688905 0.91033168 0.90809756\n",
            " 0.89639676 0.87856158 0.88723297 0.90177377 0.92119941 0.90684801\n",
            " 0.91275521 0.9214266  0.92403941 0.93801223 0.95584741 0.95793015\n",
            " 0.95539303 0.95645329 0.95425708 0.97152428 0.97254664 0.99390352\n",
            " 0.99348692 1.         0.8431288  0.84572309]\n",
            "2 day output [[0.8466278]]\n",
            "3 day input [0.68741044 0.66385734 0.66003283 0.67805736 0.69263606 0.6926739\n",
            " 0.70130751 0.70062593 0.66344081 0.67801951 0.66919656 0.67438428\n",
            " 0.68756188 0.68653952 0.67502801 0.68824351 0.70373097 0.70365522\n",
            " 0.70710111 0.71668138 0.74277153 0.7408782  0.72444406 0.72879871\n",
            " 0.73182806 0.73966649 0.73281263 0.72058164 0.72433047 0.7203923\n",
            " 0.73307767 0.72876086 0.72470916 0.74421049 0.7465582  0.72523929\n",
            " 0.7322825  0.75572194 0.75591128 0.74583873 0.75579769 0.76738489\n",
            " 0.79055935 0.78927184 0.78718921 0.78359183 0.78703771 0.79131667\n",
            " 0.80684198 0.80475936 0.81695238 0.81846709 0.8298271  0.83918018\n",
            " 0.81736892 0.81725533 0.83808201 0.86481595 0.87117753 0.86977648\n",
            " 0.87019296 0.87848577 0.88117439 0.88897492 0.88806604 0.89757062\n",
            " 0.89064107 0.90245546 0.90752958 0.90446239 0.89272369 0.88825545\n",
            " 0.88738447 0.90476527 0.89688905 0.91033168 0.90809756 0.89639676\n",
            " 0.87856158 0.88723297 0.90177377 0.92119941 0.90684801 0.91275521\n",
            " 0.9214266  0.92403941 0.93801223 0.95584741 0.95793015 0.95539303\n",
            " 0.95645329 0.95425708 0.97152428 0.97254664 0.99390352 0.99348692\n",
            " 1.         0.8431288  0.84572309 0.84662777]\n",
            "3 day output [[0.8457491]]\n",
            "4 day input [0.66385734 0.66003283 0.67805736 0.69263606 0.6926739  0.70130751\n",
            " 0.70062593 0.66344081 0.67801951 0.66919656 0.67438428 0.68756188\n",
            " 0.68653952 0.67502801 0.68824351 0.70373097 0.70365522 0.70710111\n",
            " 0.71668138 0.74277153 0.7408782  0.72444406 0.72879871 0.73182806\n",
            " 0.73966649 0.73281263 0.72058164 0.72433047 0.7203923  0.73307767\n",
            " 0.72876086 0.72470916 0.74421049 0.7465582  0.72523929 0.7322825\n",
            " 0.75572194 0.75591128 0.74583873 0.75579769 0.76738489 0.79055935\n",
            " 0.78927184 0.78718921 0.78359183 0.78703771 0.79131667 0.80684198\n",
            " 0.80475936 0.81695238 0.81846709 0.8298271  0.83918018 0.81736892\n",
            " 0.81725533 0.83808201 0.86481595 0.87117753 0.86977648 0.87019296\n",
            " 0.87848577 0.88117439 0.88897492 0.88806604 0.89757062 0.89064107\n",
            " 0.90245546 0.90752958 0.90446239 0.89272369 0.88825545 0.88738447\n",
            " 0.90476527 0.89688905 0.91033168 0.90809756 0.89639676 0.87856158\n",
            " 0.88723297 0.90177377 0.92119941 0.90684801 0.91275521 0.9214266\n",
            " 0.92403941 0.93801223 0.95584741 0.95793015 0.95539303 0.95645329\n",
            " 0.95425708 0.97152428 0.97254664 0.99390352 0.99348692 1.\n",
            " 0.8431288  0.84572309 0.84662777 0.84574908]\n",
            "4 day output [[0.8432255]]\n",
            "5 day input [0.66003283 0.67805736 0.69263606 0.6926739  0.70130751 0.70062593\n",
            " 0.66344081 0.67801951 0.66919656 0.67438428 0.68756188 0.68653952\n",
            " 0.67502801 0.68824351 0.70373097 0.70365522 0.70710111 0.71668138\n",
            " 0.74277153 0.7408782  0.72444406 0.72879871 0.73182806 0.73966649\n",
            " 0.73281263 0.72058164 0.72433047 0.7203923  0.73307767 0.72876086\n",
            " 0.72470916 0.74421049 0.7465582  0.72523929 0.7322825  0.75572194\n",
            " 0.75591128 0.74583873 0.75579769 0.76738489 0.79055935 0.78927184\n",
            " 0.78718921 0.78359183 0.78703771 0.79131667 0.80684198 0.80475936\n",
            " 0.81695238 0.81846709 0.8298271  0.83918018 0.81736892 0.81725533\n",
            " 0.83808201 0.86481595 0.87117753 0.86977648 0.87019296 0.87848577\n",
            " 0.88117439 0.88897492 0.88806604 0.89757062 0.89064107 0.90245546\n",
            " 0.90752958 0.90446239 0.89272369 0.88825545 0.88738447 0.90476527\n",
            " 0.89688905 0.91033168 0.90809756 0.89639676 0.87856158 0.88723297\n",
            " 0.90177377 0.92119941 0.90684801 0.91275521 0.9214266  0.92403941\n",
            " 0.93801223 0.95584741 0.95793015 0.95539303 0.95645329 0.95425708\n",
            " 0.97152428 0.97254664 0.99390352 0.99348692 1.         0.8431288\n",
            " 0.84572309 0.84662777 0.84574908 0.84322548]\n",
            "5 day output [[0.8393087]]\n",
            "6 day input [0.67805736 0.69263606 0.6926739  0.70130751 0.70062593 0.66344081\n",
            " 0.67801951 0.66919656 0.67438428 0.68756188 0.68653952 0.67502801\n",
            " 0.68824351 0.70373097 0.70365522 0.70710111 0.71668138 0.74277153\n",
            " 0.7408782  0.72444406 0.72879871 0.73182806 0.73966649 0.73281263\n",
            " 0.72058164 0.72433047 0.7203923  0.73307767 0.72876086 0.72470916\n",
            " 0.74421049 0.7465582  0.72523929 0.7322825  0.75572194 0.75591128\n",
            " 0.74583873 0.75579769 0.76738489 0.79055935 0.78927184 0.78718921\n",
            " 0.78359183 0.78703771 0.79131667 0.80684198 0.80475936 0.81695238\n",
            " 0.81846709 0.8298271  0.83918018 0.81736892 0.81725533 0.83808201\n",
            " 0.86481595 0.87117753 0.86977648 0.87019296 0.87848577 0.88117439\n",
            " 0.88897492 0.88806604 0.89757062 0.89064107 0.90245546 0.90752958\n",
            " 0.90446239 0.89272369 0.88825545 0.88738447 0.90476527 0.89688905\n",
            " 0.91033168 0.90809756 0.89639676 0.87856158 0.88723297 0.90177377\n",
            " 0.92119941 0.90684801 0.91275521 0.9214266  0.92403941 0.93801223\n",
            " 0.95584741 0.95793015 0.95539303 0.95645329 0.95425708 0.97152428\n",
            " 0.97254664 0.99390352 0.99348692 1.         0.8431288  0.84572309\n",
            " 0.84662777 0.84574908 0.84322548 0.83930868]\n",
            "6 day output [[0.83428943]]\n",
            "7 day input [0.69263606 0.6926739  0.70130751 0.70062593 0.66344081 0.67801951\n",
            " 0.66919656 0.67438428 0.68756188 0.68653952 0.67502801 0.68824351\n",
            " 0.70373097 0.70365522 0.70710111 0.71668138 0.74277153 0.7408782\n",
            " 0.72444406 0.72879871 0.73182806 0.73966649 0.73281263 0.72058164\n",
            " 0.72433047 0.7203923  0.73307767 0.72876086 0.72470916 0.74421049\n",
            " 0.7465582  0.72523929 0.7322825  0.75572194 0.75591128 0.74583873\n",
            " 0.75579769 0.76738489 0.79055935 0.78927184 0.78718921 0.78359183\n",
            " 0.78703771 0.79131667 0.80684198 0.80475936 0.81695238 0.81846709\n",
            " 0.8298271  0.83918018 0.81736892 0.81725533 0.83808201 0.86481595\n",
            " 0.87117753 0.86977648 0.87019296 0.87848577 0.88117439 0.88897492\n",
            " 0.88806604 0.89757062 0.89064107 0.90245546 0.90752958 0.90446239\n",
            " 0.89272369 0.88825545 0.88738447 0.90476527 0.89688905 0.91033168\n",
            " 0.90809756 0.89639676 0.87856158 0.88723297 0.90177377 0.92119941\n",
            " 0.90684801 0.91275521 0.9214266  0.92403941 0.93801223 0.95584741\n",
            " 0.95793015 0.95539303 0.95645329 0.95425708 0.97152428 0.97254664\n",
            " 0.99390352 0.99348692 1.         0.8431288  0.84572309 0.84662777\n",
            " 0.84574908 0.84322548 0.83930868 0.83428943]\n",
            "7 day output [[0.82845193]]\n",
            "8 day input [0.6926739  0.70130751 0.70062593 0.66344081 0.67801951 0.66919656\n",
            " 0.67438428 0.68756188 0.68653952 0.67502801 0.68824351 0.70373097\n",
            " 0.70365522 0.70710111 0.71668138 0.74277153 0.7408782  0.72444406\n",
            " 0.72879871 0.73182806 0.73966649 0.73281263 0.72058164 0.72433047\n",
            " 0.7203923  0.73307767 0.72876086 0.72470916 0.74421049 0.7465582\n",
            " 0.72523929 0.7322825  0.75572194 0.75591128 0.74583873 0.75579769\n",
            " 0.76738489 0.79055935 0.78927184 0.78718921 0.78359183 0.78703771\n",
            " 0.79131667 0.80684198 0.80475936 0.81695238 0.81846709 0.8298271\n",
            " 0.83918018 0.81736892 0.81725533 0.83808201 0.86481595 0.87117753\n",
            " 0.86977648 0.87019296 0.87848577 0.88117439 0.88897492 0.88806604\n",
            " 0.89757062 0.89064107 0.90245546 0.90752958 0.90446239 0.89272369\n",
            " 0.88825545 0.88738447 0.90476527 0.89688905 0.91033168 0.90809756\n",
            " 0.89639676 0.87856158 0.88723297 0.90177377 0.92119941 0.90684801\n",
            " 0.91275521 0.9214266  0.92403941 0.93801223 0.95584741 0.95793015\n",
            " 0.95539303 0.95645329 0.95425708 0.97152428 0.97254664 0.99390352\n",
            " 0.99348692 1.         0.8431288  0.84572309 0.84662777 0.84574908\n",
            " 0.84322548 0.83930868 0.83428943 0.82845193]\n",
            "8 day output [[0.82204735]]\n",
            "9 day input [0.70130751 0.70062593 0.66344081 0.67801951 0.66919656 0.67438428\n",
            " 0.68756188 0.68653952 0.67502801 0.68824351 0.70373097 0.70365522\n",
            " 0.70710111 0.71668138 0.74277153 0.7408782  0.72444406 0.72879871\n",
            " 0.73182806 0.73966649 0.73281263 0.72058164 0.72433047 0.7203923\n",
            " 0.73307767 0.72876086 0.72470916 0.74421049 0.7465582  0.72523929\n",
            " 0.7322825  0.75572194 0.75591128 0.74583873 0.75579769 0.76738489\n",
            " 0.79055935 0.78927184 0.78718921 0.78359183 0.78703771 0.79131667\n",
            " 0.80684198 0.80475936 0.81695238 0.81846709 0.8298271  0.83918018\n",
            " 0.81736892 0.81725533 0.83808201 0.86481595 0.87117753 0.86977648\n",
            " 0.87019296 0.87848577 0.88117439 0.88897492 0.88806604 0.89757062\n",
            " 0.89064107 0.90245546 0.90752958 0.90446239 0.89272369 0.88825545\n",
            " 0.88738447 0.90476527 0.89688905 0.91033168 0.90809756 0.89639676\n",
            " 0.87856158 0.88723297 0.90177377 0.92119941 0.90684801 0.91275521\n",
            " 0.9214266  0.92403941 0.93801223 0.95584741 0.95793015 0.95539303\n",
            " 0.95645329 0.95425708 0.97152428 0.97254664 0.99390352 0.99348692\n",
            " 1.         0.8431288  0.84572309 0.84662777 0.84574908 0.84322548\n",
            " 0.83930868 0.83428943 0.82845193 0.82204735]\n",
            "9 day output [[0.8152861]]\n",
            "10 day input [0.70062593 0.66344081 0.67801951 0.66919656 0.67438428 0.68756188\n",
            " 0.68653952 0.67502801 0.68824351 0.70373097 0.70365522 0.70710111\n",
            " 0.71668138 0.74277153 0.7408782  0.72444406 0.72879871 0.73182806\n",
            " 0.73966649 0.73281263 0.72058164 0.72433047 0.7203923  0.73307767\n",
            " 0.72876086 0.72470916 0.74421049 0.7465582  0.72523929 0.7322825\n",
            " 0.75572194 0.75591128 0.74583873 0.75579769 0.76738489 0.79055935\n",
            " 0.78927184 0.78718921 0.78359183 0.78703771 0.79131667 0.80684198\n",
            " 0.80475936 0.81695238 0.81846709 0.8298271  0.83918018 0.81736892\n",
            " 0.81725533 0.83808201 0.86481595 0.87117753 0.86977648 0.87019296\n",
            " 0.87848577 0.88117439 0.88897492 0.88806604 0.89757062 0.89064107\n",
            " 0.90245546 0.90752958 0.90446239 0.89272369 0.88825545 0.88738447\n",
            " 0.90476527 0.89688905 0.91033168 0.90809756 0.89639676 0.87856158\n",
            " 0.88723297 0.90177377 0.92119941 0.90684801 0.91275521 0.9214266\n",
            " 0.92403941 0.93801223 0.95584741 0.95793015 0.95539303 0.95645329\n",
            " 0.95425708 0.97152428 0.97254664 0.99390352 0.99348692 1.\n",
            " 0.8431288  0.84572309 0.84662777 0.84574908 0.84322548 0.83930868\n",
            " 0.83428943 0.82845193 0.82204735 0.8152861 ]\n",
            "10 day output [[0.80833244]]\n",
            "11 day input [0.66344081 0.67801951 0.66919656 0.67438428 0.68756188 0.68653952\n",
            " 0.67502801 0.68824351 0.70373097 0.70365522 0.70710111 0.71668138\n",
            " 0.74277153 0.7408782  0.72444406 0.72879871 0.73182806 0.73966649\n",
            " 0.73281263 0.72058164 0.72433047 0.7203923  0.73307767 0.72876086\n",
            " 0.72470916 0.74421049 0.7465582  0.72523929 0.7322825  0.75572194\n",
            " 0.75591128 0.74583873 0.75579769 0.76738489 0.79055935 0.78927184\n",
            " 0.78718921 0.78359183 0.78703771 0.79131667 0.80684198 0.80475936\n",
            " 0.81695238 0.81846709 0.8298271  0.83918018 0.81736892 0.81725533\n",
            " 0.83808201 0.86481595 0.87117753 0.86977648 0.87019296 0.87848577\n",
            " 0.88117439 0.88897492 0.88806604 0.89757062 0.89064107 0.90245546\n",
            " 0.90752958 0.90446239 0.89272369 0.88825545 0.88738447 0.90476527\n",
            " 0.89688905 0.91033168 0.90809756 0.89639676 0.87856158 0.88723297\n",
            " 0.90177377 0.92119941 0.90684801 0.91275521 0.9214266  0.92403941\n",
            " 0.93801223 0.95584741 0.95793015 0.95539303 0.95645329 0.95425708\n",
            " 0.97152428 0.97254664 0.99390352 0.99348692 1.         0.8431288\n",
            " 0.84572309 0.84662777 0.84574908 0.84322548 0.83930868 0.83428943\n",
            " 0.82845193 0.82204735 0.8152861  0.80833244]\n",
            "11 day output [[0.8013109]]\n",
            "12 day input [0.67801951 0.66919656 0.67438428 0.68756188 0.68653952 0.67502801\n",
            " 0.68824351 0.70373097 0.70365522 0.70710111 0.71668138 0.74277153\n",
            " 0.7408782  0.72444406 0.72879871 0.73182806 0.73966649 0.73281263\n",
            " 0.72058164 0.72433047 0.7203923  0.73307767 0.72876086 0.72470916\n",
            " 0.74421049 0.7465582  0.72523929 0.7322825  0.75572194 0.75591128\n",
            " 0.74583873 0.75579769 0.76738489 0.79055935 0.78927184 0.78718921\n",
            " 0.78359183 0.78703771 0.79131667 0.80684198 0.80475936 0.81695238\n",
            " 0.81846709 0.8298271  0.83918018 0.81736892 0.81725533 0.83808201\n",
            " 0.86481595 0.87117753 0.86977648 0.87019296 0.87848577 0.88117439\n",
            " 0.88897492 0.88806604 0.89757062 0.89064107 0.90245546 0.90752958\n",
            " 0.90446239 0.89272369 0.88825545 0.88738447 0.90476527 0.89688905\n",
            " 0.91033168 0.90809756 0.89639676 0.87856158 0.88723297 0.90177377\n",
            " 0.92119941 0.90684801 0.91275521 0.9214266  0.92403941 0.93801223\n",
            " 0.95584741 0.95793015 0.95539303 0.95645329 0.95425708 0.97152428\n",
            " 0.97254664 0.99390352 0.99348692 1.         0.8431288  0.84572309\n",
            " 0.84662777 0.84574908 0.84322548 0.83930868 0.83428943 0.82845193\n",
            " 0.82204735 0.8152861  0.80833244 0.8013109 ]\n",
            "12 day output [[0.7943107]]\n",
            "13 day input [0.66919656 0.67438428 0.68756188 0.68653952 0.67502801 0.68824351\n",
            " 0.70373097 0.70365522 0.70710111 0.71668138 0.74277153 0.7408782\n",
            " 0.72444406 0.72879871 0.73182806 0.73966649 0.73281263 0.72058164\n",
            " 0.72433047 0.7203923  0.73307767 0.72876086 0.72470916 0.74421049\n",
            " 0.7465582  0.72523929 0.7322825  0.75572194 0.75591128 0.74583873\n",
            " 0.75579769 0.76738489 0.79055935 0.78927184 0.78718921 0.78359183\n",
            " 0.78703771 0.79131667 0.80684198 0.80475936 0.81695238 0.81846709\n",
            " 0.8298271  0.83918018 0.81736892 0.81725533 0.83808201 0.86481595\n",
            " 0.87117753 0.86977648 0.87019296 0.87848577 0.88117439 0.88897492\n",
            " 0.88806604 0.89757062 0.89064107 0.90245546 0.90752958 0.90446239\n",
            " 0.89272369 0.88825545 0.88738447 0.90476527 0.89688905 0.91033168\n",
            " 0.90809756 0.89639676 0.87856158 0.88723297 0.90177377 0.92119941\n",
            " 0.90684801 0.91275521 0.9214266  0.92403941 0.93801223 0.95584741\n",
            " 0.95793015 0.95539303 0.95645329 0.95425708 0.97152428 0.97254664\n",
            " 0.99390352 0.99348692 1.         0.8431288  0.84572309 0.84662777\n",
            " 0.84574908 0.84322548 0.83930868 0.83428943 0.82845193 0.82204735\n",
            " 0.8152861  0.80833244 0.8013109  0.79431069]\n",
            "13 day output [[0.78739274]]\n",
            "14 day input [0.67438428 0.68756188 0.68653952 0.67502801 0.68824351 0.70373097\n",
            " 0.70365522 0.70710111 0.71668138 0.74277153 0.7408782  0.72444406\n",
            " 0.72879871 0.73182806 0.73966649 0.73281263 0.72058164 0.72433047\n",
            " 0.7203923  0.73307767 0.72876086 0.72470916 0.74421049 0.7465582\n",
            " 0.72523929 0.7322825  0.75572194 0.75591128 0.74583873 0.75579769\n",
            " 0.76738489 0.79055935 0.78927184 0.78718921 0.78359183 0.78703771\n",
            " 0.79131667 0.80684198 0.80475936 0.81695238 0.81846709 0.8298271\n",
            " 0.83918018 0.81736892 0.81725533 0.83808201 0.86481595 0.87117753\n",
            " 0.86977648 0.87019296 0.87848577 0.88117439 0.88897492 0.88806604\n",
            " 0.89757062 0.89064107 0.90245546 0.90752958 0.90446239 0.89272369\n",
            " 0.88825545 0.88738447 0.90476527 0.89688905 0.91033168 0.90809756\n",
            " 0.89639676 0.87856158 0.88723297 0.90177377 0.92119941 0.90684801\n",
            " 0.91275521 0.9214266  0.92403941 0.93801223 0.95584741 0.95793015\n",
            " 0.95539303 0.95645329 0.95425708 0.97152428 0.97254664 0.99390352\n",
            " 0.99348692 1.         0.8431288  0.84572309 0.84662777 0.84574908\n",
            " 0.84322548 0.83930868 0.83428943 0.82845193 0.82204735 0.8152861\n",
            " 0.80833244 0.8013109  0.79431069 0.78739274]\n",
            "14 day output [[0.7805964]]\n",
            "15 day input [0.68756188 0.68653952 0.67502801 0.68824351 0.70373097 0.70365522\n",
            " 0.70710111 0.71668138 0.74277153 0.7408782  0.72444406 0.72879871\n",
            " 0.73182806 0.73966649 0.73281263 0.72058164 0.72433047 0.7203923\n",
            " 0.73307767 0.72876086 0.72470916 0.74421049 0.7465582  0.72523929\n",
            " 0.7322825  0.75572194 0.75591128 0.74583873 0.75579769 0.76738489\n",
            " 0.79055935 0.78927184 0.78718921 0.78359183 0.78703771 0.79131667\n",
            " 0.80684198 0.80475936 0.81695238 0.81846709 0.8298271  0.83918018\n",
            " 0.81736892 0.81725533 0.83808201 0.86481595 0.87117753 0.86977648\n",
            " 0.87019296 0.87848577 0.88117439 0.88897492 0.88806604 0.89757062\n",
            " 0.89064107 0.90245546 0.90752958 0.90446239 0.89272369 0.88825545\n",
            " 0.88738447 0.90476527 0.89688905 0.91033168 0.90809756 0.89639676\n",
            " 0.87856158 0.88723297 0.90177377 0.92119941 0.90684801 0.91275521\n",
            " 0.9214266  0.92403941 0.93801223 0.95584741 0.95793015 0.95539303\n",
            " 0.95645329 0.95425708 0.97152428 0.97254664 0.99390352 0.99348692\n",
            " 1.         0.8431288  0.84572309 0.84662777 0.84574908 0.84322548\n",
            " 0.83930868 0.83428943 0.82845193 0.82204735 0.8152861  0.80833244\n",
            " 0.8013109  0.79431069 0.78739274 0.78059638]\n",
            "15 day output [[0.7739449]]\n",
            "16 day input [0.68653952 0.67502801 0.68824351 0.70373097 0.70365522 0.70710111\n",
            " 0.71668138 0.74277153 0.7408782  0.72444406 0.72879871 0.73182806\n",
            " 0.73966649 0.73281263 0.72058164 0.72433047 0.7203923  0.73307767\n",
            " 0.72876086 0.72470916 0.74421049 0.7465582  0.72523929 0.7322825\n",
            " 0.75572194 0.75591128 0.74583873 0.75579769 0.76738489 0.79055935\n",
            " 0.78927184 0.78718921 0.78359183 0.78703771 0.79131667 0.80684198\n",
            " 0.80475936 0.81695238 0.81846709 0.8298271  0.83918018 0.81736892\n",
            " 0.81725533 0.83808201 0.86481595 0.87117753 0.86977648 0.87019296\n",
            " 0.87848577 0.88117439 0.88897492 0.88806604 0.89757062 0.89064107\n",
            " 0.90245546 0.90752958 0.90446239 0.89272369 0.88825545 0.88738447\n",
            " 0.90476527 0.89688905 0.91033168 0.90809756 0.89639676 0.87856158\n",
            " 0.88723297 0.90177377 0.92119941 0.90684801 0.91275521 0.9214266\n",
            " 0.92403941 0.93801223 0.95584741 0.95793015 0.95539303 0.95645329\n",
            " 0.95425708 0.97152428 0.97254664 0.99390352 0.99348692 1.\n",
            " 0.8431288  0.84572309 0.84662777 0.84574908 0.84322548 0.83930868\n",
            " 0.83428943 0.82845193 0.82204735 0.8152861  0.80833244 0.8013109\n",
            " 0.79431069 0.78739274 0.78059638 0.77394491]\n",
            "16 day output [[0.7674506]]\n",
            "17 day input [0.67502801 0.68824351 0.70373097 0.70365522 0.70710111 0.71668138\n",
            " 0.74277153 0.7408782  0.72444406 0.72879871 0.73182806 0.73966649\n",
            " 0.73281263 0.72058164 0.72433047 0.7203923  0.73307767 0.72876086\n",
            " 0.72470916 0.74421049 0.7465582  0.72523929 0.7322825  0.75572194\n",
            " 0.75591128 0.74583873 0.75579769 0.76738489 0.79055935 0.78927184\n",
            " 0.78718921 0.78359183 0.78703771 0.79131667 0.80684198 0.80475936\n",
            " 0.81695238 0.81846709 0.8298271  0.83918018 0.81736892 0.81725533\n",
            " 0.83808201 0.86481595 0.87117753 0.86977648 0.87019296 0.87848577\n",
            " 0.88117439 0.88897492 0.88806604 0.89757062 0.89064107 0.90245546\n",
            " 0.90752958 0.90446239 0.89272369 0.88825545 0.88738447 0.90476527\n",
            " 0.89688905 0.91033168 0.90809756 0.89639676 0.87856158 0.88723297\n",
            " 0.90177377 0.92119941 0.90684801 0.91275521 0.9214266  0.92403941\n",
            " 0.93801223 0.95584741 0.95793015 0.95539303 0.95645329 0.95425708\n",
            " 0.97152428 0.97254664 0.99390352 0.99348692 1.         0.8431288\n",
            " 0.84572309 0.84662777 0.84574908 0.84322548 0.83930868 0.83428943\n",
            " 0.82845193 0.82204735 0.8152861  0.80833244 0.8013109  0.79431069\n",
            " 0.78739274 0.78059638 0.77394491 0.76745057]\n",
            "17 day output [[0.7611178]]\n",
            "18 day input [0.68824351 0.70373097 0.70365522 0.70710111 0.71668138 0.74277153\n",
            " 0.7408782  0.72444406 0.72879871 0.73182806 0.73966649 0.73281263\n",
            " 0.72058164 0.72433047 0.7203923  0.73307767 0.72876086 0.72470916\n",
            " 0.74421049 0.7465582  0.72523929 0.7322825  0.75572194 0.75591128\n",
            " 0.74583873 0.75579769 0.76738489 0.79055935 0.78927184 0.78718921\n",
            " 0.78359183 0.78703771 0.79131667 0.80684198 0.80475936 0.81695238\n",
            " 0.81846709 0.8298271  0.83918018 0.81736892 0.81725533 0.83808201\n",
            " 0.86481595 0.87117753 0.86977648 0.87019296 0.87848577 0.88117439\n",
            " 0.88897492 0.88806604 0.89757062 0.89064107 0.90245546 0.90752958\n",
            " 0.90446239 0.89272369 0.88825545 0.88738447 0.90476527 0.89688905\n",
            " 0.91033168 0.90809756 0.89639676 0.87856158 0.88723297 0.90177377\n",
            " 0.92119941 0.90684801 0.91275521 0.9214266  0.92403941 0.93801223\n",
            " 0.95584741 0.95793015 0.95539303 0.95645329 0.95425708 0.97152428\n",
            " 0.97254664 0.99390352 0.99348692 1.         0.8431288  0.84572309\n",
            " 0.84662777 0.84574908 0.84322548 0.83930868 0.83428943 0.82845193\n",
            " 0.82204735 0.8152861  0.80833244 0.8013109  0.79431069 0.78739274\n",
            " 0.78059638 0.77394491 0.76745057 0.76111782]\n",
            "18 day output [[0.75494605]]\n",
            "19 day input [0.70373097 0.70365522 0.70710111 0.71668138 0.74277153 0.7408782\n",
            " 0.72444406 0.72879871 0.73182806 0.73966649 0.73281263 0.72058164\n",
            " 0.72433047 0.7203923  0.73307767 0.72876086 0.72470916 0.74421049\n",
            " 0.7465582  0.72523929 0.7322825  0.75572194 0.75591128 0.74583873\n",
            " 0.75579769 0.76738489 0.79055935 0.78927184 0.78718921 0.78359183\n",
            " 0.78703771 0.79131667 0.80684198 0.80475936 0.81695238 0.81846709\n",
            " 0.8298271  0.83918018 0.81736892 0.81725533 0.83808201 0.86481595\n",
            " 0.87117753 0.86977648 0.87019296 0.87848577 0.88117439 0.88897492\n",
            " 0.88806604 0.89757062 0.89064107 0.90245546 0.90752958 0.90446239\n",
            " 0.89272369 0.88825545 0.88738447 0.90476527 0.89688905 0.91033168\n",
            " 0.90809756 0.89639676 0.87856158 0.88723297 0.90177377 0.92119941\n",
            " 0.90684801 0.91275521 0.9214266  0.92403941 0.93801223 0.95584741\n",
            " 0.95793015 0.95539303 0.95645329 0.95425708 0.97152428 0.97254664\n",
            " 0.99390352 0.99348692 1.         0.8431288  0.84572309 0.84662777\n",
            " 0.84574908 0.84322548 0.83930868 0.83428943 0.82845193 0.82204735\n",
            " 0.8152861  0.80833244 0.8013109  0.79431069 0.78739274 0.78059638\n",
            " 0.77394491 0.76745057 0.76111782 0.75494605]\n",
            "19 day output [[0.748932]]\n",
            "20 day input [0.70365522 0.70710111 0.71668138 0.74277153 0.7408782  0.72444406\n",
            " 0.72879871 0.73182806 0.73966649 0.73281263 0.72058164 0.72433047\n",
            " 0.7203923  0.73307767 0.72876086 0.72470916 0.74421049 0.7465582\n",
            " 0.72523929 0.7322825  0.75572194 0.75591128 0.74583873 0.75579769\n",
            " 0.76738489 0.79055935 0.78927184 0.78718921 0.78359183 0.78703771\n",
            " 0.79131667 0.80684198 0.80475936 0.81695238 0.81846709 0.8298271\n",
            " 0.83918018 0.81736892 0.81725533 0.83808201 0.86481595 0.87117753\n",
            " 0.86977648 0.87019296 0.87848577 0.88117439 0.88897492 0.88806604\n",
            " 0.89757062 0.89064107 0.90245546 0.90752958 0.90446239 0.89272369\n",
            " 0.88825545 0.88738447 0.90476527 0.89688905 0.91033168 0.90809756\n",
            " 0.89639676 0.87856158 0.88723297 0.90177377 0.92119941 0.90684801\n",
            " 0.91275521 0.9214266  0.92403941 0.93801223 0.95584741 0.95793015\n",
            " 0.95539303 0.95645329 0.95425708 0.97152428 0.97254664 0.99390352\n",
            " 0.99348692 1.         0.8431288  0.84572309 0.84662777 0.84574908\n",
            " 0.84322548 0.83930868 0.83428943 0.82845193 0.82204735 0.8152861\n",
            " 0.80833244 0.8013109  0.79431069 0.78739274 0.78059638 0.77394491\n",
            " 0.76745057 0.76111782 0.75494605 0.748932  ]\n",
            "20 day output [[0.74307084]]\n",
            "21 day input [0.70710111 0.71668138 0.74277153 0.7408782  0.72444406 0.72879871\n",
            " 0.73182806 0.73966649 0.73281263 0.72058164 0.72433047 0.7203923\n",
            " 0.73307767 0.72876086 0.72470916 0.74421049 0.7465582  0.72523929\n",
            " 0.7322825  0.75572194 0.75591128 0.74583873 0.75579769 0.76738489\n",
            " 0.79055935 0.78927184 0.78718921 0.78359183 0.78703771 0.79131667\n",
            " 0.80684198 0.80475936 0.81695238 0.81846709 0.8298271  0.83918018\n",
            " 0.81736892 0.81725533 0.83808201 0.86481595 0.87117753 0.86977648\n",
            " 0.87019296 0.87848577 0.88117439 0.88897492 0.88806604 0.89757062\n",
            " 0.89064107 0.90245546 0.90752958 0.90446239 0.89272369 0.88825545\n",
            " 0.88738447 0.90476527 0.89688905 0.91033168 0.90809756 0.89639676\n",
            " 0.87856158 0.88723297 0.90177377 0.92119941 0.90684801 0.91275521\n",
            " 0.9214266  0.92403941 0.93801223 0.95584741 0.95793015 0.95539303\n",
            " 0.95645329 0.95425708 0.97152428 0.97254664 0.99390352 0.99348692\n",
            " 1.         0.8431288  0.84572309 0.84662777 0.84574908 0.84322548\n",
            " 0.83930868 0.83428943 0.82845193 0.82204735 0.8152861  0.80833244\n",
            " 0.8013109  0.79431069 0.78739274 0.78059638 0.77394491 0.76745057\n",
            " 0.76111782 0.75494605 0.748932   0.74307084]\n",
            "21 day output [[0.73735744]]\n",
            "22 day input [0.71668138 0.74277153 0.7408782  0.72444406 0.72879871 0.73182806\n",
            " 0.73966649 0.73281263 0.72058164 0.72433047 0.7203923  0.73307767\n",
            " 0.72876086 0.72470916 0.74421049 0.7465582  0.72523929 0.7322825\n",
            " 0.75572194 0.75591128 0.74583873 0.75579769 0.76738489 0.79055935\n",
            " 0.78927184 0.78718921 0.78359183 0.78703771 0.79131667 0.80684198\n",
            " 0.80475936 0.81695238 0.81846709 0.8298271  0.83918018 0.81736892\n",
            " 0.81725533 0.83808201 0.86481595 0.87117753 0.86977648 0.87019296\n",
            " 0.87848577 0.88117439 0.88897492 0.88806604 0.89757062 0.89064107\n",
            " 0.90245546 0.90752958 0.90446239 0.89272369 0.88825545 0.88738447\n",
            " 0.90476527 0.89688905 0.91033168 0.90809756 0.89639676 0.87856158\n",
            " 0.88723297 0.90177377 0.92119941 0.90684801 0.91275521 0.9214266\n",
            " 0.92403941 0.93801223 0.95584741 0.95793015 0.95539303 0.95645329\n",
            " 0.95425708 0.97152428 0.97254664 0.99390352 0.99348692 1.\n",
            " 0.8431288  0.84572309 0.84662777 0.84574908 0.84322548 0.83930868\n",
            " 0.83428943 0.82845193 0.82204735 0.8152861  0.80833244 0.8013109\n",
            " 0.79431069 0.78739274 0.78059638 0.77394491 0.76745057 0.76111782\n",
            " 0.75494605 0.748932   0.74307084 0.73735744]\n",
            "22 day output [[0.7317856]]\n",
            "23 day input [0.74277153 0.7408782  0.72444406 0.72879871 0.73182806 0.73966649\n",
            " 0.73281263 0.72058164 0.72433047 0.7203923  0.73307767 0.72876086\n",
            " 0.72470916 0.74421049 0.7465582  0.72523929 0.7322825  0.75572194\n",
            " 0.75591128 0.74583873 0.75579769 0.76738489 0.79055935 0.78927184\n",
            " 0.78718921 0.78359183 0.78703771 0.79131667 0.80684198 0.80475936\n",
            " 0.81695238 0.81846709 0.8298271  0.83918018 0.81736892 0.81725533\n",
            " 0.83808201 0.86481595 0.87117753 0.86977648 0.87019296 0.87848577\n",
            " 0.88117439 0.88897492 0.88806604 0.89757062 0.89064107 0.90245546\n",
            " 0.90752958 0.90446239 0.89272369 0.88825545 0.88738447 0.90476527\n",
            " 0.89688905 0.91033168 0.90809756 0.89639676 0.87856158 0.88723297\n",
            " 0.90177377 0.92119941 0.90684801 0.91275521 0.9214266  0.92403941\n",
            " 0.93801223 0.95584741 0.95793015 0.95539303 0.95645329 0.95425708\n",
            " 0.97152428 0.97254664 0.99390352 0.99348692 1.         0.8431288\n",
            " 0.84572309 0.84662777 0.84574908 0.84322548 0.83930868 0.83428943\n",
            " 0.82845193 0.82204735 0.8152861  0.80833244 0.8013109  0.79431069\n",
            " 0.78739274 0.78059638 0.77394491 0.76745057 0.76111782 0.75494605\n",
            " 0.748932   0.74307084 0.73735744 0.7317856 ]\n",
            "23 day output [[0.7263502]]\n",
            "24 day input [0.7408782  0.72444406 0.72879871 0.73182806 0.73966649 0.73281263\n",
            " 0.72058164 0.72433047 0.7203923  0.73307767 0.72876086 0.72470916\n",
            " 0.74421049 0.7465582  0.72523929 0.7322825  0.75572194 0.75591128\n",
            " 0.74583873 0.75579769 0.76738489 0.79055935 0.78927184 0.78718921\n",
            " 0.78359183 0.78703771 0.79131667 0.80684198 0.80475936 0.81695238\n",
            " 0.81846709 0.8298271  0.83918018 0.81736892 0.81725533 0.83808201\n",
            " 0.86481595 0.87117753 0.86977648 0.87019296 0.87848577 0.88117439\n",
            " 0.88897492 0.88806604 0.89757062 0.89064107 0.90245546 0.90752958\n",
            " 0.90446239 0.89272369 0.88825545 0.88738447 0.90476527 0.89688905\n",
            " 0.91033168 0.90809756 0.89639676 0.87856158 0.88723297 0.90177377\n",
            " 0.92119941 0.90684801 0.91275521 0.9214266  0.92403941 0.93801223\n",
            " 0.95584741 0.95793015 0.95539303 0.95645329 0.95425708 0.97152428\n",
            " 0.97254664 0.99390352 0.99348692 1.         0.8431288  0.84572309\n",
            " 0.84662777 0.84574908 0.84322548 0.83930868 0.83428943 0.82845193\n",
            " 0.82204735 0.8152861  0.80833244 0.8013109  0.79431069 0.78739274\n",
            " 0.78059638 0.77394491 0.76745057 0.76111782 0.75494605 0.748932\n",
            " 0.74307084 0.73735744 0.7317856  0.72635019]\n",
            "24 day output [[0.7210461]]\n",
            "25 day input [0.72444406 0.72879871 0.73182806 0.73966649 0.73281263 0.72058164\n",
            " 0.72433047 0.7203923  0.73307767 0.72876086 0.72470916 0.74421049\n",
            " 0.7465582  0.72523929 0.7322825  0.75572194 0.75591128 0.74583873\n",
            " 0.75579769 0.76738489 0.79055935 0.78927184 0.78718921 0.78359183\n",
            " 0.78703771 0.79131667 0.80684198 0.80475936 0.81695238 0.81846709\n",
            " 0.8298271  0.83918018 0.81736892 0.81725533 0.83808201 0.86481595\n",
            " 0.87117753 0.86977648 0.87019296 0.87848577 0.88117439 0.88897492\n",
            " 0.88806604 0.89757062 0.89064107 0.90245546 0.90752958 0.90446239\n",
            " 0.89272369 0.88825545 0.88738447 0.90476527 0.89688905 0.91033168\n",
            " 0.90809756 0.89639676 0.87856158 0.88723297 0.90177377 0.92119941\n",
            " 0.90684801 0.91275521 0.9214266  0.92403941 0.93801223 0.95584741\n",
            " 0.95793015 0.95539303 0.95645329 0.95425708 0.97152428 0.97254664\n",
            " 0.99390352 0.99348692 1.         0.8431288  0.84572309 0.84662777\n",
            " 0.84574908 0.84322548 0.83930868 0.83428943 0.82845193 0.82204735\n",
            " 0.8152861  0.80833244 0.8013109  0.79431069 0.78739274 0.78059638\n",
            " 0.77394491 0.76745057 0.76111782 0.75494605 0.748932   0.74307084\n",
            " 0.73735744 0.7317856  0.72635019 0.72104609]\n",
            "25 day output [[0.71586853]]\n",
            "26 day input [0.72879871 0.73182806 0.73966649 0.73281263 0.72058164 0.72433047\n",
            " 0.7203923  0.73307767 0.72876086 0.72470916 0.74421049 0.7465582\n",
            " 0.72523929 0.7322825  0.75572194 0.75591128 0.74583873 0.75579769\n",
            " 0.76738489 0.79055935 0.78927184 0.78718921 0.78359183 0.78703771\n",
            " 0.79131667 0.80684198 0.80475936 0.81695238 0.81846709 0.8298271\n",
            " 0.83918018 0.81736892 0.81725533 0.83808201 0.86481595 0.87117753\n",
            " 0.86977648 0.87019296 0.87848577 0.88117439 0.88897492 0.88806604\n",
            " 0.89757062 0.89064107 0.90245546 0.90752958 0.90446239 0.89272369\n",
            " 0.88825545 0.88738447 0.90476527 0.89688905 0.91033168 0.90809756\n",
            " 0.89639676 0.87856158 0.88723297 0.90177377 0.92119941 0.90684801\n",
            " 0.91275521 0.9214266  0.92403941 0.93801223 0.95584741 0.95793015\n",
            " 0.95539303 0.95645329 0.95425708 0.97152428 0.97254664 0.99390352\n",
            " 0.99348692 1.         0.8431288  0.84572309 0.84662777 0.84574908\n",
            " 0.84322548 0.83930868 0.83428943 0.82845193 0.82204735 0.8152861\n",
            " 0.80833244 0.8013109  0.79431069 0.78739274 0.78059638 0.77394491\n",
            " 0.76745057 0.76111782 0.75494605 0.748932   0.74307084 0.73735744\n",
            " 0.7317856  0.72635019 0.72104609 0.71586853]\n",
            "26 day output [[0.7108129]]\n",
            "27 day input [0.73182806 0.73966649 0.73281263 0.72058164 0.72433047 0.7203923\n",
            " 0.73307767 0.72876086 0.72470916 0.74421049 0.7465582  0.72523929\n",
            " 0.7322825  0.75572194 0.75591128 0.74583873 0.75579769 0.76738489\n",
            " 0.79055935 0.78927184 0.78718921 0.78359183 0.78703771 0.79131667\n",
            " 0.80684198 0.80475936 0.81695238 0.81846709 0.8298271  0.83918018\n",
            " 0.81736892 0.81725533 0.83808201 0.86481595 0.87117753 0.86977648\n",
            " 0.87019296 0.87848577 0.88117439 0.88897492 0.88806604 0.89757062\n",
            " 0.89064107 0.90245546 0.90752958 0.90446239 0.89272369 0.88825545\n",
            " 0.88738447 0.90476527 0.89688905 0.91033168 0.90809756 0.89639676\n",
            " 0.87856158 0.88723297 0.90177377 0.92119941 0.90684801 0.91275521\n",
            " 0.9214266  0.92403941 0.93801223 0.95584741 0.95793015 0.95539303\n",
            " 0.95645329 0.95425708 0.97152428 0.97254664 0.99390352 0.99348692\n",
            " 1.         0.8431288  0.84572309 0.84662777 0.84574908 0.84322548\n",
            " 0.83930868 0.83428943 0.82845193 0.82204735 0.8152861  0.80833244\n",
            " 0.8013109  0.79431069 0.78739274 0.78059638 0.77394491 0.76745057\n",
            " 0.76111782 0.75494605 0.748932   0.74307084 0.73735744 0.7317856\n",
            " 0.72635019 0.72104609 0.71586853 0.71081293]\n",
            "27 day output [[0.7058753]]\n",
            "28 day input [0.73966649 0.73281263 0.72058164 0.72433047 0.7203923  0.73307767\n",
            " 0.72876086 0.72470916 0.74421049 0.7465582  0.72523929 0.7322825\n",
            " 0.75572194 0.75591128 0.74583873 0.75579769 0.76738489 0.79055935\n",
            " 0.78927184 0.78718921 0.78359183 0.78703771 0.79131667 0.80684198\n",
            " 0.80475936 0.81695238 0.81846709 0.8298271  0.83918018 0.81736892\n",
            " 0.81725533 0.83808201 0.86481595 0.87117753 0.86977648 0.87019296\n",
            " 0.87848577 0.88117439 0.88897492 0.88806604 0.89757062 0.89064107\n",
            " 0.90245546 0.90752958 0.90446239 0.89272369 0.88825545 0.88738447\n",
            " 0.90476527 0.89688905 0.91033168 0.90809756 0.89639676 0.87856158\n",
            " 0.88723297 0.90177377 0.92119941 0.90684801 0.91275521 0.9214266\n",
            " 0.92403941 0.93801223 0.95584741 0.95793015 0.95539303 0.95645329\n",
            " 0.95425708 0.97152428 0.97254664 0.99390352 0.99348692 1.\n",
            " 0.8431288  0.84572309 0.84662777 0.84574908 0.84322548 0.83930868\n",
            " 0.83428943 0.82845193 0.82204735 0.8152861  0.80833244 0.8013109\n",
            " 0.79431069 0.78739274 0.78059638 0.77394491 0.76745057 0.76111782\n",
            " 0.75494605 0.748932   0.74307084 0.73735744 0.7317856  0.72635019\n",
            " 0.72104609 0.71586853 0.71081293 0.70587528]\n",
            "28 day output [[0.70105124]]\n",
            "29 day input [0.73281263 0.72058164 0.72433047 0.7203923  0.73307767 0.72876086\n",
            " 0.72470916 0.74421049 0.7465582  0.72523929 0.7322825  0.75572194\n",
            " 0.75591128 0.74583873 0.75579769 0.76738489 0.79055935 0.78927184\n",
            " 0.78718921 0.78359183 0.78703771 0.79131667 0.80684198 0.80475936\n",
            " 0.81695238 0.81846709 0.8298271  0.83918018 0.81736892 0.81725533\n",
            " 0.83808201 0.86481595 0.87117753 0.86977648 0.87019296 0.87848577\n",
            " 0.88117439 0.88897492 0.88806604 0.89757062 0.89064107 0.90245546\n",
            " 0.90752958 0.90446239 0.89272369 0.88825545 0.88738447 0.90476527\n",
            " 0.89688905 0.91033168 0.90809756 0.89639676 0.87856158 0.88723297\n",
            " 0.90177377 0.92119941 0.90684801 0.91275521 0.9214266  0.92403941\n",
            " 0.93801223 0.95584741 0.95793015 0.95539303 0.95645329 0.95425708\n",
            " 0.97152428 0.97254664 0.99390352 0.99348692 1.         0.8431288\n",
            " 0.84572309 0.84662777 0.84574908 0.84322548 0.83930868 0.83428943\n",
            " 0.82845193 0.82204735 0.8152861  0.80833244 0.8013109  0.79431069\n",
            " 0.78739274 0.78059638 0.77394491 0.76745057 0.76111782 0.75494605\n",
            " 0.748932   0.74307084 0.73735744 0.7317856  0.72635019 0.72104609\n",
            " 0.71586853 0.71081293 0.70587528 0.70105124]\n",
            "29 day output [[0.69633764]]\n",
            "[[0.8431288003921509], [0.8457230925559998], [0.8466277718544006], [0.8457490801811218], [0.8432254791259766], [0.8393086791038513], [0.8342894315719604], [0.828451931476593], [0.8220473527908325], [0.8152860999107361], [0.8083324432373047], [0.8013108968734741], [0.7943106889724731], [0.7873927354812622], [0.7805963754653931], [0.7739449143409729], [0.7674505710601807], [0.7611178159713745], [0.7549460530281067], [0.7489320039749146], [0.7430708408355713], [0.7373574376106262], [0.7317855954170227], [0.7263501882553101], [0.7210460901260376], [0.7158685326576233], [0.7108129262924194], [0.7058752775192261], [0.7010512351989746], [0.6963376402854919]]\n"
          ]
        }
      ],
      "source": [
        "# demonstrate prediction for next 10 days\n",
        "from numpy import array\n",
        "\n",
        "lst_output=[]\n",
        "n_steps=100\n",
        "i=0\n",
        "while(i<30):\n",
        "\n",
        "    if(len(temp_input)>100):\n",
        "        #print(temp_input)\n",
        "        x_input=np.array(temp_input[1:])\n",
        "        print(\"{} day input {}\".format(i,x_input))\n",
        "        x_input=x_input.reshape(1,-1)\n",
        "        x_input = x_input.reshape((1, n_steps, 1))\n",
        "        #print(x_input)\n",
        "        yhat = model.predict(x_input, verbose=0)\n",
        "        print(\"{} day output {}\".format(i,yhat))\n",
        "        temp_input.extend(yhat[0].tolist())\n",
        "        temp_input=temp_input[1:]\n",
        "        #print(temp_input)\n",
        "        lst_output.extend(yhat.tolist())\n",
        "        i=i+1\n",
        "    else:\n",
        "        x_input = x_input.reshape((1, n_steps,1))\n",
        "        yhat = model.predict(x_input, verbose=0)\n",
        "        print(yhat[0])\n",
        "        temp_input.extend(yhat[0].tolist())\n",
        "        print(len(temp_input))\n",
        "        lst_output.extend(yhat.tolist())\n",
        "        i=i+1\n",
        "\n",
        "\n",
        "print(lst_output)"
      ]
    },
    {
      "cell_type": "code",
      "execution_count": 53,
      "metadata": {
        "id": "ya0Yo-qEy_7X"
      },
      "outputs": [],
      "source": [
        "day_new=np.arange(1,101)\n",
        "day_pred=np.arange(101,131)"
      ]
    },
    {
      "cell_type": "code",
      "execution_count": 39,
      "metadata": {
        "id": "kJ9H3bzQy_7Y"
      },
      "outputs": [],
      "source": [
        "import matplotlib.pyplot as plt"
      ]
    },
    {
      "cell_type": "code",
      "execution_count": 54,
      "metadata": {
        "colab": {
          "base_uri": "https://localhost:8080/"
        },
        "id": "a53yuJkly_7Y",
        "outputId": "ddfdbd33-4134-46db-f38d-3af171d0619d"
      },
      "outputs": [
        {
          "output_type": "execute_result",
          "data": {
            "text/plain": [
              "2515"
            ]
          },
          "metadata": {},
          "execution_count": 54
        }
      ],
      "source": [
        "len(df1)"
      ]
    },
    {
      "cell_type": "code",
      "execution_count": null,
      "metadata": {
        "id": "-EJPBmJly_7Z"
      },
      "outputs": [],
      "source": []
    },
    {
      "cell_type": "code",
      "execution_count": 55,
      "metadata": {
        "colab": {
          "base_uri": "https://localhost:8080/",
          "height": 447
        },
        "id": "Vw5w-Tt0y_7Z",
        "outputId": "e8dbdb55-036e-4c93-b933-d51b0a0eedea"
      },
      "outputs": [
        {
          "output_type": "execute_result",
          "data": {
            "text/plain": [
              "[<matplotlib.lines.Line2D at 0x7f8fcfc74760>]"
            ]
          },
          "metadata": {},
          "execution_count": 55
        },
        {
          "output_type": "display_data",
          "data": {
            "text/plain": [
              "<Figure size 640x480 with 1 Axes>"
            ],
            "image/png": "[encoded data removed]"
          },
          "metadata": {}
        }
      ],
      "source": [
        "plt.plot(day_new,scaler.inverse_transform(df1[2415:]))\n",
        "plt.plot(day_pred,scaler.inverse_transform(lst_output))"
      ]
    },
    {
      "cell_type": "code",
      "execution_count": 56,
      "metadata": {
        "colab": {
          "base_uri": "https://localhost:8080/",
          "height": 447
        },
        "id": "4_KMxXrmy_7a",
        "outputId": "f4711156-42e8-46d2-bd69-b50286f1ff30"
      },
      "outputs": [
        {
          "output_type": "execute_result",
          "data": {
            "text/plain": [
              "[<matplotlib.lines.Line2D at 0x7f8fce3376a0>]"
            ]
          },
          "metadata": {},
          "execution_count": 56
        },
        {
          "output_type": "display_data",
          "data": {
            "text/plain": [
              "<Figure size 640x480 with 1 Axes>"
            ],
            "image/png": "[encoded data removed]"
          },
          "metadata": {}
        }
      ],
      "source": [
        "df3=df1.tolist()\n",
        "df3.extend(lst_output)\n",
        "plt.plot(df3[1200:])"
      ]
    },
    {
      "cell_type": "code",
      "execution_count": 57,
      "metadata": {
        "id": "Mjo0paAby_7a"
      },
      "outputs": [],
      "source": [
        "df3=scaler.inverse_transform(df3).tolist()"
      ]
    },
    {
      "cell_type": "code",
      "execution_count": 58,
      "metadata": {
        "colab": {
          "base_uri": "https://localhost:8080/",
          "height": 447
        },
        "id": "KM4r3lb_y_7c",
        "outputId": "f21c47d5-4038-44b6-aa0a-7dc55f26ac22"
      },
      "outputs": [
        {
          "output_type": "execute_result",
          "data": {
            "text/plain": [
              "[<matplotlib.lines.Line2D at 0x7f8fce04c100>]"
            ]
          },
          "metadata": {},
          "execution_count": 58
        },
        {
          "output_type": "display_data",
          "data": {
            "text/plain": [
              "<Figure size 640x480 with 1 Axes>"
            ],
            "image/png": "[encoded data removed]"
          },
          "metadata": {}
        }
      ],
      "source": [
        "plt.plot(df3)"
      ]
    },
    {
      "cell_type": "code",
      "execution_count": null,
      "metadata": {
        "id": "d_08Uz7Zy_7d"
      },
      "outputs": [],
      "source": []
    }
  ],
  "metadata": {
    "kernelspec": {
      "display_name": "Python 3",
      "language": "python",
      "name": "python3"
    },
    "language_info": {
      "codemirror_mode": {
        "name": "ipython",
        "version": 3
      },
      "file_extension": ".py",
      "mimetype": "text/x-python",
      "name": "python",
      "nbconvert_exporter": "python",
      "pygments_lexer": "ipython3",
      "version": "3.6.9"
    },
    "colab": {
      "provenance": []
    }
  },
  "nbformat": 4,
  "nbformat_minor": 0
}